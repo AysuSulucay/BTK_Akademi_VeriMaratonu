{
  "nbformat": 4,
  "nbformat_minor": 0,
  "metadata": {
    "colab": {
      "name": "MachineLearning_Exercises.ipynb",
      "provenance": [],
      "collapsed_sections": [
        "rsgbTDndN6SZ",
        "BH_og3vAQC1L",
        "mTEZKpkKu5zC"
      ],
      "mount_file_id": "18muW210BtZkIOJ5XOCytnTef0uyKKvzg",
      "authorship_tag": "ABX9TyPRw1fgJlv6PgCQpx+QDFGc",
      "include_colab_link": true
    },
    "kernelspec": {
      "name": "python3",
      "display_name": "Python 3"
    },
    "language_info": {
      "name": "python"
    }
  },
  "cells": [
    {
      "cell_type": "markdown",
      "metadata": {
        "id": "view-in-github",
        "colab_type": "text"
      },
      "source": [
        "<a href=\"https://colab.research.google.com/github/AysuSulucay/BTK_Akademi_VeriMaratonu/blob/main/MachineLearning_Exercises.ipynb\" target=\"_parent\"><img src=\"https://colab.research.google.com/assets/colab-badge.svg\" alt=\"Open In Colab\"/></a>"
      ]
    },
    {
      "cell_type": "markdown",
      "source": [
        "# **LINEAR REGRESSION (LR)**"
      ],
      "metadata": {
        "id": "tTJzAhC4OB7f"
      }
    },
    {
      "cell_type": "code",
      "execution_count": null,
      "metadata": {
        "id": "RwAZ3CMnCcS2"
      },
      "outputs": [],
      "source": [
        "# Import Libraries\n",
        "import pandas as pd\n",
        "import matplotlib.pyplot as plt\n",
        "import numpy as np\n",
        "\n",
        "# Import Sklearn \n",
        "from sklearn.linear_model import LinearRegression"
      ]
    },
    {
      "cell_type": "code",
      "source": [
        "# Import Data\n",
        "df = pd.read_csv(\"/content/drive/MyDrive/BTK_AKADEMİ_VERİ MARATONU/Veri Setleri/dogrusal_regresyon_veriseti_20220209.csv\", sep = \";\")\n",
        "# \"sep = ;\" The reason is that the data in the csv file is separated by a semicolon\n",
        "df.head()"
      ],
      "metadata": {
        "colab": {
          "base_uri": "https://localhost:8080/",
          "height": 206
        },
        "id": "uyx4lf75GsGy",
        "outputId": "14675d50-09e1-4e1e-fdc8-d8c1acd71c6d"
      },
      "execution_count": null,
      "outputs": [
        {
          "output_type": "execute_result",
          "data": {
            "text/html": [
              "\n",
              "  <div id=\"df-63e9ee84-8030-4592-82c3-bcd3c86233cf\">\n",
              "    <div class=\"colab-df-container\">\n",
              "      <div>\n",
              "<style scoped>\n",
              "    .dataframe tbody tr th:only-of-type {\n",
              "        vertical-align: middle;\n",
              "    }\n",
              "\n",
              "    .dataframe tbody tr th {\n",
              "        vertical-align: top;\n",
              "    }\n",
              "\n",
              "    .dataframe thead th {\n",
              "        text-align: right;\n",
              "    }\n",
              "</style>\n",
              "<table border=\"1\" class=\"dataframe\">\n",
              "  <thead>\n",
              "    <tr style=\"text-align: right;\">\n",
              "      <th></th>\n",
              "      <th>deneyim</th>\n",
              "      <th>maas</th>\n",
              "    </tr>\n",
              "  </thead>\n",
              "  <tbody>\n",
              "    <tr>\n",
              "      <th>0</th>\n",
              "      <td>0.5</td>\n",
              "      <td>2500</td>\n",
              "    </tr>\n",
              "    <tr>\n",
              "      <th>1</th>\n",
              "      <td>0.0</td>\n",
              "      <td>2250</td>\n",
              "    </tr>\n",
              "    <tr>\n",
              "      <th>2</th>\n",
              "      <td>1.0</td>\n",
              "      <td>2750</td>\n",
              "    </tr>\n",
              "    <tr>\n",
              "      <th>3</th>\n",
              "      <td>5.0</td>\n",
              "      <td>8000</td>\n",
              "    </tr>\n",
              "    <tr>\n",
              "      <th>4</th>\n",
              "      <td>8.0</td>\n",
              "      <td>9000</td>\n",
              "    </tr>\n",
              "  </tbody>\n",
              "</table>\n",
              "</div>\n",
              "      <button class=\"colab-df-convert\" onclick=\"convertToInteractive('df-63e9ee84-8030-4592-82c3-bcd3c86233cf')\"\n",
              "              title=\"Convert this dataframe to an interactive table.\"\n",
              "              style=\"display:none;\">\n",
              "        \n",
              "  <svg xmlns=\"http://www.w3.org/2000/svg\" height=\"24px\"viewBox=\"0 0 24 24\"\n",
              "       width=\"24px\">\n",
              "    <path d=\"M0 0h24v24H0V0z\" fill=\"none\"/>\n",
              "    <path d=\"M18.56 5.44l.94 2.06.94-2.06 2.06-.94-2.06-.94-.94-2.06-.94 2.06-2.06.94zm-11 1L8.5 8.5l.94-2.06 2.06-.94-2.06-.94L8.5 2.5l-.94 2.06-2.06.94zm10 10l.94 2.06.94-2.06 2.06-.94-2.06-.94-.94-2.06-.94 2.06-2.06.94z\"/><path d=\"M17.41 7.96l-1.37-1.37c-.4-.4-.92-.59-1.43-.59-.52 0-1.04.2-1.43.59L10.3 9.45l-7.72 7.72c-.78.78-.78 2.05 0 2.83L4 21.41c.39.39.9.59 1.41.59.51 0 1.02-.2 1.41-.59l7.78-7.78 2.81-2.81c.8-.78.8-2.07 0-2.86zM5.41 20L4 18.59l7.72-7.72 1.47 1.35L5.41 20z\"/>\n",
              "  </svg>\n",
              "      </button>\n",
              "      \n",
              "  <style>\n",
              "    .colab-df-container {\n",
              "      display:flex;\n",
              "      flex-wrap:wrap;\n",
              "      gap: 12px;\n",
              "    }\n",
              "\n",
              "    .colab-df-convert {\n",
              "      background-color: #E8F0FE;\n",
              "      border: none;\n",
              "      border-radius: 50%;\n",
              "      cursor: pointer;\n",
              "      display: none;\n",
              "      fill: #1967D2;\n",
              "      height: 32px;\n",
              "      padding: 0 0 0 0;\n",
              "      width: 32px;\n",
              "    }\n",
              "\n",
              "    .colab-df-convert:hover {\n",
              "      background-color: #E2EBFA;\n",
              "      box-shadow: 0px 1px 2px rgba(60, 64, 67, 0.3), 0px 1px 3px 1px rgba(60, 64, 67, 0.15);\n",
              "      fill: #174EA6;\n",
              "    }\n",
              "\n",
              "    [theme=dark] .colab-df-convert {\n",
              "      background-color: #3B4455;\n",
              "      fill: #D2E3FC;\n",
              "    }\n",
              "\n",
              "    [theme=dark] .colab-df-convert:hover {\n",
              "      background-color: #434B5C;\n",
              "      box-shadow: 0px 1px 3px 1px rgba(0, 0, 0, 0.15);\n",
              "      filter: drop-shadow(0px 1px 2px rgba(0, 0, 0, 0.3));\n",
              "      fill: #FFFFFF;\n",
              "    }\n",
              "  </style>\n",
              "\n",
              "      <script>\n",
              "        const buttonEl =\n",
              "          document.querySelector('#df-63e9ee84-8030-4592-82c3-bcd3c86233cf button.colab-df-convert');\n",
              "        buttonEl.style.display =\n",
              "          google.colab.kernel.accessAllowed ? 'block' : 'none';\n",
              "\n",
              "        async function convertToInteractive(key) {\n",
              "          const element = document.querySelector('#df-63e9ee84-8030-4592-82c3-bcd3c86233cf');\n",
              "          const dataTable =\n",
              "            await google.colab.kernel.invokeFunction('convertToInteractive',\n",
              "                                                     [key], {});\n",
              "          if (!dataTable) return;\n",
              "\n",
              "          const docLinkHtml = 'Like what you see? Visit the ' +\n",
              "            '<a target=\"_blank\" href=https://colab.research.google.com/notebooks/data_table.ipynb>data table notebook</a>'\n",
              "            + ' to learn more about interactive tables.';\n",
              "          element.innerHTML = '';\n",
              "          dataTable['output_type'] = 'display_data';\n",
              "          await google.colab.output.renderOutput(dataTable, element);\n",
              "          const docLink = document.createElement('div');\n",
              "          docLink.innerHTML = docLinkHtml;\n",
              "          element.appendChild(docLink);\n",
              "        }\n",
              "      </script>\n",
              "    </div>\n",
              "  </div>\n",
              "  "
            ],
            "text/plain": [
              "   deneyim  maas\n",
              "0      0.5  2500\n",
              "1      0.0  2250\n",
              "2      1.0  2750\n",
              "3      5.0  8000\n",
              "4      8.0  9000"
            ]
          },
          "metadata": {},
          "execution_count": 2
        }
      ]
    },
    {
      "cell_type": "code",
      "source": [
        "# changing columns name\n",
        "df = df.rename(columns = {\"deneyim\": \"experience\", \n",
        "                          \"maas\": \"salary\"})\n",
        "df.head()"
      ],
      "metadata": {
        "colab": {
          "base_uri": "https://localhost:8080/",
          "height": 206
        },
        "id": "81-Jkeevmr3-",
        "outputId": "875b5836-885b-4b0f-9b34-10533722db62"
      },
      "execution_count": null,
      "outputs": [
        {
          "output_type": "execute_result",
          "data": {
            "text/html": [
              "\n",
              "  <div id=\"df-df7d688f-92bf-4022-9fac-625f48bcb1c5\">\n",
              "    <div class=\"colab-df-container\">\n",
              "      <div>\n",
              "<style scoped>\n",
              "    .dataframe tbody tr th:only-of-type {\n",
              "        vertical-align: middle;\n",
              "    }\n",
              "\n",
              "    .dataframe tbody tr th {\n",
              "        vertical-align: top;\n",
              "    }\n",
              "\n",
              "    .dataframe thead th {\n",
              "        text-align: right;\n",
              "    }\n",
              "</style>\n",
              "<table border=\"1\" class=\"dataframe\">\n",
              "  <thead>\n",
              "    <tr style=\"text-align: right;\">\n",
              "      <th></th>\n",
              "      <th>experience</th>\n",
              "      <th>salary</th>\n",
              "    </tr>\n",
              "  </thead>\n",
              "  <tbody>\n",
              "    <tr>\n",
              "      <th>0</th>\n",
              "      <td>0.5</td>\n",
              "      <td>2500</td>\n",
              "    </tr>\n",
              "    <tr>\n",
              "      <th>1</th>\n",
              "      <td>0.0</td>\n",
              "      <td>2250</td>\n",
              "    </tr>\n",
              "    <tr>\n",
              "      <th>2</th>\n",
              "      <td>1.0</td>\n",
              "      <td>2750</td>\n",
              "    </tr>\n",
              "    <tr>\n",
              "      <th>3</th>\n",
              "      <td>5.0</td>\n",
              "      <td>8000</td>\n",
              "    </tr>\n",
              "    <tr>\n",
              "      <th>4</th>\n",
              "      <td>8.0</td>\n",
              "      <td>9000</td>\n",
              "    </tr>\n",
              "  </tbody>\n",
              "</table>\n",
              "</div>\n",
              "      <button class=\"colab-df-convert\" onclick=\"convertToInteractive('df-df7d688f-92bf-4022-9fac-625f48bcb1c5')\"\n",
              "              title=\"Convert this dataframe to an interactive table.\"\n",
              "              style=\"display:none;\">\n",
              "        \n",
              "  <svg xmlns=\"http://www.w3.org/2000/svg\" height=\"24px\"viewBox=\"0 0 24 24\"\n",
              "       width=\"24px\">\n",
              "    <path d=\"M0 0h24v24H0V0z\" fill=\"none\"/>\n",
              "    <path d=\"M18.56 5.44l.94 2.06.94-2.06 2.06-.94-2.06-.94-.94-2.06-.94 2.06-2.06.94zm-11 1L8.5 8.5l.94-2.06 2.06-.94-2.06-.94L8.5 2.5l-.94 2.06-2.06.94zm10 10l.94 2.06.94-2.06 2.06-.94-2.06-.94-.94-2.06-.94 2.06-2.06.94z\"/><path d=\"M17.41 7.96l-1.37-1.37c-.4-.4-.92-.59-1.43-.59-.52 0-1.04.2-1.43.59L10.3 9.45l-7.72 7.72c-.78.78-.78 2.05 0 2.83L4 21.41c.39.39.9.59 1.41.59.51 0 1.02-.2 1.41-.59l7.78-7.78 2.81-2.81c.8-.78.8-2.07 0-2.86zM5.41 20L4 18.59l7.72-7.72 1.47 1.35L5.41 20z\"/>\n",
              "  </svg>\n",
              "      </button>\n",
              "      \n",
              "  <style>\n",
              "    .colab-df-container {\n",
              "      display:flex;\n",
              "      flex-wrap:wrap;\n",
              "      gap: 12px;\n",
              "    }\n",
              "\n",
              "    .colab-df-convert {\n",
              "      background-color: #E8F0FE;\n",
              "      border: none;\n",
              "      border-radius: 50%;\n",
              "      cursor: pointer;\n",
              "      display: none;\n",
              "      fill: #1967D2;\n",
              "      height: 32px;\n",
              "      padding: 0 0 0 0;\n",
              "      width: 32px;\n",
              "    }\n",
              "\n",
              "    .colab-df-convert:hover {\n",
              "      background-color: #E2EBFA;\n",
              "      box-shadow: 0px 1px 2px rgba(60, 64, 67, 0.3), 0px 1px 3px 1px rgba(60, 64, 67, 0.15);\n",
              "      fill: #174EA6;\n",
              "    }\n",
              "\n",
              "    [theme=dark] .colab-df-convert {\n",
              "      background-color: #3B4455;\n",
              "      fill: #D2E3FC;\n",
              "    }\n",
              "\n",
              "    [theme=dark] .colab-df-convert:hover {\n",
              "      background-color: #434B5C;\n",
              "      box-shadow: 0px 1px 3px 1px rgba(0, 0, 0, 0.15);\n",
              "      filter: drop-shadow(0px 1px 2px rgba(0, 0, 0, 0.3));\n",
              "      fill: #FFFFFF;\n",
              "    }\n",
              "  </style>\n",
              "\n",
              "      <script>\n",
              "        const buttonEl =\n",
              "          document.querySelector('#df-df7d688f-92bf-4022-9fac-625f48bcb1c5 button.colab-df-convert');\n",
              "        buttonEl.style.display =\n",
              "          google.colab.kernel.accessAllowed ? 'block' : 'none';\n",
              "\n",
              "        async function convertToInteractive(key) {\n",
              "          const element = document.querySelector('#df-df7d688f-92bf-4022-9fac-625f48bcb1c5');\n",
              "          const dataTable =\n",
              "            await google.colab.kernel.invokeFunction('convertToInteractive',\n",
              "                                                     [key], {});\n",
              "          if (!dataTable) return;\n",
              "\n",
              "          const docLinkHtml = 'Like what you see? Visit the ' +\n",
              "            '<a target=\"_blank\" href=https://colab.research.google.com/notebooks/data_table.ipynb>data table notebook</a>'\n",
              "            + ' to learn more about interactive tables.';\n",
              "          element.innerHTML = '';\n",
              "          dataTable['output_type'] = 'display_data';\n",
              "          await google.colab.output.renderOutput(dataTable, element);\n",
              "          const docLink = document.createElement('div');\n",
              "          docLink.innerHTML = docLinkHtml;\n",
              "          element.appendChild(docLink);\n",
              "        }\n",
              "      </script>\n",
              "    </div>\n",
              "  </div>\n",
              "  "
            ],
            "text/plain": [
              "   experience  salary\n",
              "0         0.5    2500\n",
              "1         0.0    2250\n",
              "2         1.0    2750\n",
              "3         5.0    8000\n",
              "4         8.0    9000"
            ]
          },
          "metadata": {},
          "execution_count": 21
        }
      ]
    },
    {
      "cell_type": "code",
      "source": [
        "# Visualize Data\n",
        "plt.scatter(df.experience,df.salary)\n",
        "plt.xlabel(\"Experience (Year)\")\n",
        "plt.ylabel(\"Salary (TL)\")\n",
        "plt.title(\"Experience - Salary Relationship\")\n",
        "plt.grid(True)\n",
        "plt.show()"
      ],
      "metadata": {
        "colab": {
          "base_uri": "https://localhost:8080/",
          "height": 295
        },
        "id": "JDdR-UKaI4KU",
        "outputId": "ffc29642-8250-45c9-d373-3c4e86c3a21e"
      },
      "execution_count": null,
      "outputs": [
        {
          "output_type": "display_data",
          "data": {
            "image/png": "[encoded data removed]",
            "text/plain": [
              "<Figure size 432x288 with 1 Axes>"
            ]
          },
          "metadata": {
            "needs_background": "light"
          }
        }
      ]
    },
    {
      "cell_type": "code",
      "source": [
        "# Linear Regression Model Training\n",
        "\n",
        "# Linear Regression Model\n",
        "linear_reg = LinearRegression()\n",
        "\n",
        "# Convert the salary and experience columns in data to numpy array\n",
        "x = df.experience.values.reshape(-1,1)\n",
        "y = df.salary.values.reshape(-1,1)\n",
        "# Sklearn wants functions in this format\n",
        "\n",
        "# Linear Regression Training \n",
        "linear_reg.fit(x,y)\n",
        "# Fit linear model"
      ],
      "metadata": {
        "colab": {
          "base_uri": "https://localhost:8080/"
        },
        "id": "7oKhgJV6Jb6H",
        "outputId": "d974a8ce-b8e4-47a2-8a54-82073e44a1e3"
      },
      "execution_count": null,
      "outputs": [
        {
          "output_type": "execute_result",
          "data": {
            "text/plain": [
              "LinearRegression()"
            ]
          },
          "metadata": {},
          "execution_count": 46
        }
      ]
    },
    {
      "cell_type": "markdown",
      "source": [
        "\n",
        "\n",
        "---\n",
        "\n"
      ],
      "metadata": {
        "id": "ZDnwBBJBsLMP"
      }
    },
    {
      "cell_type": "markdown",
      "source": [
        "for better understanding of np.array([]).reshape() function"
      ],
      "metadata": {
        "id": "Cj0vGON0r7YQ"
      }
    },
    {
      "cell_type": "code",
      "source": [
        "np.array([[1, 2], [3, 4]]).reshape(1,-1) #Tek satır"
      ],
      "metadata": {
        "colab": {
          "base_uri": "https://localhost:8080/"
        },
        "id": "fHyQEAYlrdKg",
        "outputId": "ad264772-b15b-4c72-d786-266e0c7f0497"
      },
      "execution_count": null,
      "outputs": [
        {
          "output_type": "execute_result",
          "data": {
            "text/plain": [
              "array([[1, 2, 3, 4]])"
            ]
          },
          "metadata": {},
          "execution_count": 28
        }
      ]
    },
    {
      "cell_type": "code",
      "source": [
        "np.array([[1, 2], [3, 4]]).reshape(-1,1) #Tek sütun"
      ],
      "metadata": {
        "colab": {
          "base_uri": "https://localhost:8080/"
        },
        "id": "ZquZ1LO4z6qW",
        "outputId": "3ddcf881-4fc0-4a2d-f4f5-ed188392ec94"
      },
      "execution_count": null,
      "outputs": [
        {
          "output_type": "execute_result",
          "data": {
            "text/plain": [
              "array([[1],\n",
              "       [2],\n",
              "       [3],\n",
              "       [4]])"
            ]
          },
          "metadata": {},
          "execution_count": 38
        }
      ]
    },
    {
      "cell_type": "markdown",
      "source": [
        "\n",
        "\n",
        "---\n",
        "\n"
      ],
      "metadata": {
        "id": "ZqK6bfmFsJyh"
      }
    },
    {
      "cell_type": "code",
      "source": [
        "# Finding the point where it intercepts the y-axis\n",
        "# Made for verification\n",
        "# Alternative method\n",
        "\"\"\"\n",
        "np.array([0]).reshape(1,-1) ilk değeri bulduk;\n",
        "O ilk değerin, y ekseni kesişim değişkeninin yerine \n",
        "koyuyoruz ve predict fonksiyonunu kullanıyoruz.\n",
        "\n",
        "Kısaca 0 yıllık deneyim için maaş ne kadardır sorusunu cevaplamaya çalıştık.\n",
        "Formülde de yerine koyunca sağlamamızın doğru olduğunu görmüş olduk.\n",
        "\"\"\"\n",
        "y_axis_intercept = np.array([0]).reshape(1,-1)\n",
        "b0 = linear_reg.predict(y_axis_intercept)\n",
        "print(\"b0: \", b0)\n",
        "\n",
        "# intercept\n",
        "b0_ = linear_reg.intercept_\n",
        "print(\"b0: \",b0_)\n",
        "\n",
        "# Finding the slope\n",
        "b1 = linear_reg.coef_\n",
        "print(\"b1: \", b1)"
      ],
      "metadata": {
        "colab": {
          "base_uri": "https://localhost:8080/"
        },
        "id": "U5syqyTYKu4X",
        "outputId": "38653f4e-7f70-4c13-a054-a9c26b858c13"
      },
      "execution_count": null,
      "outputs": [
        {
          "output_type": "stream",
          "name": "stdout",
          "text": [
            "b0:  [[1663.89519747]]\n",
            "b0:  [1663.89519747]\n",
            "b1:  [[1138.34819698]]\n"
          ]
        }
      ]
    },
    {
      "cell_type": "code",
      "source": [
        "# salary = 1663 + 1138*experience  --> This is our formula\n",
        "# The linear model is created according to the slope and the point where it intercepts the y-axis\n",
        "\n",
        "experience = 11 # 11 years of experience\n",
        "\n",
        "# Estimate the salary of someone with 11 years of experience\n",
        "salary_new = 1663 + 1138*experience\n",
        "print(salary_new)\n",
        "\n",
        "# The salary of someone with 11 years of experience is estimated by the predict method\n",
        "result = linear_reg.predict(np.array([experience]).reshape(1,-1))\n",
        "print(\"Salary of someone with 11 years of experience: {} TL\".format(result[0]))"
      ],
      "metadata": {
        "colab": {
          "base_uri": "https://localhost:8080/"
        },
        "id": "A52RvLCKLSmt",
        "outputId": "6c5d2781-8ecc-4357-c546-0c4d974dc1e2"
      },
      "execution_count": null,
      "outputs": [
        {
          "output_type": "stream",
          "name": "stdout",
          "text": [
            "14181\n",
            "Salary of someone with 11 years of experience: [14185.72536421] TL\n"
          ]
        }
      ]
    },
    {
      "cell_type": "code",
      "source": [
        "# Test/Prediction/Visualization with Linear Regression Model\n",
        "\n",
        "# array = np.array([0,1,2,3,4,5,6,7,8,9,10,11,12,13,14,15]).reshape(-1,1)\n",
        "array = np.arange(0,16, dtype = int).reshape(-1,1) \n",
        "\n",
        "plt.figure()\n",
        "plt.scatter(x,y)\n",
        "\n",
        "# The salary of people with experience from 0-15 years is estimated\n",
        "y_head = linear_reg.predict(array) # y_head = salary\n",
        "\n",
        "plt.plot(array, y_head, color =\"red\") # (experience,salary)\n",
        "plt.xlabel(\"Experience (Year)\")\n",
        "plt.ylabel(\"Salary (TL)\")\n",
        "plt.title(\"Experience - Salary Relationship\")\n",
        "plt.grid(True)\n",
        "plt.show()"
      ],
      "metadata": {
        "colab": {
          "base_uri": "https://localhost:8080/",
          "height": 295
        },
        "id": "IZgVOagvMvIA",
        "outputId": "26d1354d-a117-426f-f823-c75305eaec31"
      },
      "execution_count": null,
      "outputs": [
        {
          "output_type": "display_data",
          "data": {
            "image/png": "[encoded data removed]",
            "text/plain": [
              "<Figure size 432x288 with 1 Axes>"
            ]
          },
          "metadata": {
            "needs_background": "light"
          }
        }
      ]
    },
    {
      "cell_type": "markdown",
      "source": [
        "# **MULTI LINEAR REGRESSION (MLR)**\n",
        "more than two independent variables"
      ],
      "metadata": {
        "id": "rsgbTDndN6SZ"
      }
    },
    {
      "cell_type": "code",
      "source": [
        "import pandas as pd\n",
        "import matplotlib.pyplot as plt\n",
        "import numpy as np\n",
        "\n",
        "from sklearn.linear_model import LinearRegression"
      ],
      "metadata": {
        "id": "6e0ZHcdkNhno"
      },
      "execution_count": null,
      "outputs": []
    },
    {
      "cell_type": "code",
      "source": [
        "df = pd.read_csv(\"/content/drive/MyDrive/BTK_AKADEMİ_VERİ MARATONU/Veri Setleri/coklu_dogrusal_regresyon_veriseti_20220209.csv\", sep = \";\")\n",
        "df.head()"
      ],
      "metadata": {
        "colab": {
          "base_uri": "https://localhost:8080/",
          "height": 206
        },
        "id": "oxjtJfNjOSKh",
        "outputId": "143f8725-d72e-4231-a03a-a9e41bf33a9c"
      },
      "execution_count": null,
      "outputs": [
        {
          "output_type": "execute_result",
          "data": {
            "text/html": [
              "\n",
              "  <div id=\"df-83cafecd-1595-468d-ae8a-6eb2cd8ec3a4\">\n",
              "    <div class=\"colab-df-container\">\n",
              "      <div>\n",
              "<style scoped>\n",
              "    .dataframe tbody tr th:only-of-type {\n",
              "        vertical-align: middle;\n",
              "    }\n",
              "\n",
              "    .dataframe tbody tr th {\n",
              "        vertical-align: top;\n",
              "    }\n",
              "\n",
              "    .dataframe thead th {\n",
              "        text-align: right;\n",
              "    }\n",
              "</style>\n",
              "<table border=\"1\" class=\"dataframe\">\n",
              "  <thead>\n",
              "    <tr style=\"text-align: right;\">\n",
              "      <th></th>\n",
              "      <th>deneyim</th>\n",
              "      <th>maas</th>\n",
              "      <th>yas</th>\n",
              "    </tr>\n",
              "  </thead>\n",
              "  <tbody>\n",
              "    <tr>\n",
              "      <th>0</th>\n",
              "      <td>0.5</td>\n",
              "      <td>2500</td>\n",
              "      <td>22</td>\n",
              "    </tr>\n",
              "    <tr>\n",
              "      <th>1</th>\n",
              "      <td>0.0</td>\n",
              "      <td>2250</td>\n",
              "      <td>21</td>\n",
              "    </tr>\n",
              "    <tr>\n",
              "      <th>2</th>\n",
              "      <td>1.0</td>\n",
              "      <td>2750</td>\n",
              "      <td>23</td>\n",
              "    </tr>\n",
              "    <tr>\n",
              "      <th>3</th>\n",
              "      <td>5.0</td>\n",
              "      <td>8000</td>\n",
              "      <td>25</td>\n",
              "    </tr>\n",
              "    <tr>\n",
              "      <th>4</th>\n",
              "      <td>8.0</td>\n",
              "      <td>9000</td>\n",
              "      <td>28</td>\n",
              "    </tr>\n",
              "  </tbody>\n",
              "</table>\n",
              "</div>\n",
              "      <button class=\"colab-df-convert\" onclick=\"convertToInteractive('df-83cafecd-1595-468d-ae8a-6eb2cd8ec3a4')\"\n",
              "              title=\"Convert this dataframe to an interactive table.\"\n",
              "              style=\"display:none;\">\n",
              "        \n",
              "  <svg xmlns=\"http://www.w3.org/2000/svg\" height=\"24px\"viewBox=\"0 0 24 24\"\n",
              "       width=\"24px\">\n",
              "    <path d=\"M0 0h24v24H0V0z\" fill=\"none\"/>\n",
              "    <path d=\"M18.56 5.44l.94 2.06.94-2.06 2.06-.94-2.06-.94-.94-2.06-.94 2.06-2.06.94zm-11 1L8.5 8.5l.94-2.06 2.06-.94-2.06-.94L8.5 2.5l-.94 2.06-2.06.94zm10 10l.94 2.06.94-2.06 2.06-.94-2.06-.94-.94-2.06-.94 2.06-2.06.94z\"/><path d=\"M17.41 7.96l-1.37-1.37c-.4-.4-.92-.59-1.43-.59-.52 0-1.04.2-1.43.59L10.3 9.45l-7.72 7.72c-.78.78-.78 2.05 0 2.83L4 21.41c.39.39.9.59 1.41.59.51 0 1.02-.2 1.41-.59l7.78-7.78 2.81-2.81c.8-.78.8-2.07 0-2.86zM5.41 20L4 18.59l7.72-7.72 1.47 1.35L5.41 20z\"/>\n",
              "  </svg>\n",
              "      </button>\n",
              "      \n",
              "  <style>\n",
              "    .colab-df-container {\n",
              "      display:flex;\n",
              "      flex-wrap:wrap;\n",
              "      gap: 12px;\n",
              "    }\n",
              "\n",
              "    .colab-df-convert {\n",
              "      background-color: #E8F0FE;\n",
              "      border: none;\n",
              "      border-radius: 50%;\n",
              "      cursor: pointer;\n",
              "      display: none;\n",
              "      fill: #1967D2;\n",
              "      height: 32px;\n",
              "      padding: 0 0 0 0;\n",
              "      width: 32px;\n",
              "    }\n",
              "\n",
              "    .colab-df-convert:hover {\n",
              "      background-color: #E2EBFA;\n",
              "      box-shadow: 0px 1px 2px rgba(60, 64, 67, 0.3), 0px 1px 3px 1px rgba(60, 64, 67, 0.15);\n",
              "      fill: #174EA6;\n",
              "    }\n",
              "\n",
              "    [theme=dark] .colab-df-convert {\n",
              "      background-color: #3B4455;\n",
              "      fill: #D2E3FC;\n",
              "    }\n",
              "\n",
              "    [theme=dark] .colab-df-convert:hover {\n",
              "      background-color: #434B5C;\n",
              "      box-shadow: 0px 1px 3px 1px rgba(0, 0, 0, 0.15);\n",
              "      filter: drop-shadow(0px 1px 2px rgba(0, 0, 0, 0.3));\n",
              "      fill: #FFFFFF;\n",
              "    }\n",
              "  </style>\n",
              "\n",
              "      <script>\n",
              "        const buttonEl =\n",
              "          document.querySelector('#df-83cafecd-1595-468d-ae8a-6eb2cd8ec3a4 button.colab-df-convert');\n",
              "        buttonEl.style.display =\n",
              "          google.colab.kernel.accessAllowed ? 'block' : 'none';\n",
              "\n",
              "        async function convertToInteractive(key) {\n",
              "          const element = document.querySelector('#df-83cafecd-1595-468d-ae8a-6eb2cd8ec3a4');\n",
              "          const dataTable =\n",
              "            await google.colab.kernel.invokeFunction('convertToInteractive',\n",
              "                                                     [key], {});\n",
              "          if (!dataTable) return;\n",
              "\n",
              "          const docLinkHtml = 'Like what you see? Visit the ' +\n",
              "            '<a target=\"_blank\" href=https://colab.research.google.com/notebooks/data_table.ipynb>data table notebook</a>'\n",
              "            + ' to learn more about interactive tables.';\n",
              "          element.innerHTML = '';\n",
              "          dataTable['output_type'] = 'display_data';\n",
              "          await google.colab.output.renderOutput(dataTable, element);\n",
              "          const docLink = document.createElement('div');\n",
              "          docLink.innerHTML = docLinkHtml;\n",
              "          element.appendChild(docLink);\n",
              "        }\n",
              "      </script>\n",
              "    </div>\n",
              "  </div>\n",
              "  "
            ],
            "text/plain": [
              "   deneyim  maas  yas\n",
              "0      0.5  2500   22\n",
              "1      0.0  2250   21\n",
              "2      1.0  2750   23\n",
              "3      5.0  8000   25\n",
              "4      8.0  9000   28"
            ]
          },
          "metadata": {},
          "execution_count": 2
        }
      ]
    },
    {
      "cell_type": "code",
      "source": [
        "# changing columns name\n",
        "df = df.rename(columns = {\"deneyim\": \"experience\", \n",
        "                          \"maas\": \"salary\",\n",
        "                          \"yas\": \"age\"})\n",
        "df.head()"
      ],
      "metadata": {
        "id": "UxsI_2gHOUli",
        "colab": {
          "base_uri": "https://localhost:8080/",
          "height": 206
        },
        "outputId": "44c203e3-80c2-46ab-d845-0c78cf5b9049"
      },
      "execution_count": null,
      "outputs": [
        {
          "output_type": "execute_result",
          "data": {
            "text/html": [
              "\n",
              "  <div id=\"df-9c4f20b1-d084-4f2b-8da7-d94ea51827a4\">\n",
              "    <div class=\"colab-df-container\">\n",
              "      <div>\n",
              "<style scoped>\n",
              "    .dataframe tbody tr th:only-of-type {\n",
              "        vertical-align: middle;\n",
              "    }\n",
              "\n",
              "    .dataframe tbody tr th {\n",
              "        vertical-align: top;\n",
              "    }\n",
              "\n",
              "    .dataframe thead th {\n",
              "        text-align: right;\n",
              "    }\n",
              "</style>\n",
              "<table border=\"1\" class=\"dataframe\">\n",
              "  <thead>\n",
              "    <tr style=\"text-align: right;\">\n",
              "      <th></th>\n",
              "      <th>experience</th>\n",
              "      <th>salary</th>\n",
              "      <th>age</th>\n",
              "    </tr>\n",
              "  </thead>\n",
              "  <tbody>\n",
              "    <tr>\n",
              "      <th>0</th>\n",
              "      <td>0.5</td>\n",
              "      <td>2500</td>\n",
              "      <td>22</td>\n",
              "    </tr>\n",
              "    <tr>\n",
              "      <th>1</th>\n",
              "      <td>0.0</td>\n",
              "      <td>2250</td>\n",
              "      <td>21</td>\n",
              "    </tr>\n",
              "    <tr>\n",
              "      <th>2</th>\n",
              "      <td>1.0</td>\n",
              "      <td>2750</td>\n",
              "      <td>23</td>\n",
              "    </tr>\n",
              "    <tr>\n",
              "      <th>3</th>\n",
              "      <td>5.0</td>\n",
              "      <td>8000</td>\n",
              "      <td>25</td>\n",
              "    </tr>\n",
              "    <tr>\n",
              "      <th>4</th>\n",
              "      <td>8.0</td>\n",
              "      <td>9000</td>\n",
              "      <td>28</td>\n",
              "    </tr>\n",
              "  </tbody>\n",
              "</table>\n",
              "</div>\n",
              "      <button class=\"colab-df-convert\" onclick=\"convertToInteractive('df-9c4f20b1-d084-4f2b-8da7-d94ea51827a4')\"\n",
              "              title=\"Convert this dataframe to an interactive table.\"\n",
              "              style=\"display:none;\">\n",
              "        \n",
              "  <svg xmlns=\"http://www.w3.org/2000/svg\" height=\"24px\"viewBox=\"0 0 24 24\"\n",
              "       width=\"24px\">\n",
              "    <path d=\"M0 0h24v24H0V0z\" fill=\"none\"/>\n",
              "    <path d=\"M18.56 5.44l.94 2.06.94-2.06 2.06-.94-2.06-.94-.94-2.06-.94 2.06-2.06.94zm-11 1L8.5 8.5l.94-2.06 2.06-.94-2.06-.94L8.5 2.5l-.94 2.06-2.06.94zm10 10l.94 2.06.94-2.06 2.06-.94-2.06-.94-.94-2.06-.94 2.06-2.06.94z\"/><path d=\"M17.41 7.96l-1.37-1.37c-.4-.4-.92-.59-1.43-.59-.52 0-1.04.2-1.43.59L10.3 9.45l-7.72 7.72c-.78.78-.78 2.05 0 2.83L4 21.41c.39.39.9.59 1.41.59.51 0 1.02-.2 1.41-.59l7.78-7.78 2.81-2.81c.8-.78.8-2.07 0-2.86zM5.41 20L4 18.59l7.72-7.72 1.47 1.35L5.41 20z\"/>\n",
              "  </svg>\n",
              "      </button>\n",
              "      \n",
              "  <style>\n",
              "    .colab-df-container {\n",
              "      display:flex;\n",
              "      flex-wrap:wrap;\n",
              "      gap: 12px;\n",
              "    }\n",
              "\n",
              "    .colab-df-convert {\n",
              "      background-color: #E8F0FE;\n",
              "      border: none;\n",
              "      border-radius: 50%;\n",
              "      cursor: pointer;\n",
              "      display: none;\n",
              "      fill: #1967D2;\n",
              "      height: 32px;\n",
              "      padding: 0 0 0 0;\n",
              "      width: 32px;\n",
              "    }\n",
              "\n",
              "    .colab-df-convert:hover {\n",
              "      background-color: #E2EBFA;\n",
              "      box-shadow: 0px 1px 2px rgba(60, 64, 67, 0.3), 0px 1px 3px 1px rgba(60, 64, 67, 0.15);\n",
              "      fill: #174EA6;\n",
              "    }\n",
              "\n",
              "    [theme=dark] .colab-df-convert {\n",
              "      background-color: #3B4455;\n",
              "      fill: #D2E3FC;\n",
              "    }\n",
              "\n",
              "    [theme=dark] .colab-df-convert:hover {\n",
              "      background-color: #434B5C;\n",
              "      box-shadow: 0px 1px 3px 1px rgba(0, 0, 0, 0.15);\n",
              "      filter: drop-shadow(0px 1px 2px rgba(0, 0, 0, 0.3));\n",
              "      fill: #FFFFFF;\n",
              "    }\n",
              "  </style>\n",
              "\n",
              "      <script>\n",
              "        const buttonEl =\n",
              "          document.querySelector('#df-9c4f20b1-d084-4f2b-8da7-d94ea51827a4 button.colab-df-convert');\n",
              "        buttonEl.style.display =\n",
              "          google.colab.kernel.accessAllowed ? 'block' : 'none';\n",
              "\n",
              "        async function convertToInteractive(key) {\n",
              "          const element = document.querySelector('#df-9c4f20b1-d084-4f2b-8da7-d94ea51827a4');\n",
              "          const dataTable =\n",
              "            await google.colab.kernel.invokeFunction('convertToInteractive',\n",
              "                                                     [key], {});\n",
              "          if (!dataTable) return;\n",
              "\n",
              "          const docLinkHtml = 'Like what you see? Visit the ' +\n",
              "            '<a target=\"_blank\" href=https://colab.research.google.com/notebooks/data_table.ipynb>data table notebook</a>'\n",
              "            + ' to learn more about interactive tables.';\n",
              "          element.innerHTML = '';\n",
              "          dataTable['output_type'] = 'display_data';\n",
              "          await google.colab.output.renderOutput(dataTable, element);\n",
              "          const docLink = document.createElement('div');\n",
              "          docLink.innerHTML = docLinkHtml;\n",
              "          element.appendChild(docLink);\n",
              "        }\n",
              "      </script>\n",
              "    </div>\n",
              "  </div>\n",
              "  "
            ],
            "text/plain": [
              "   experience  salary  age\n",
              "0         0.5    2500   22\n",
              "1         0.0    2250   21\n",
              "2         1.0    2750   23\n",
              "3         5.0    8000   25\n",
              "4         8.0    9000   28"
            ]
          },
          "metadata": {},
          "execution_count": 3
        }
      ]
    },
    {
      "cell_type": "code",
      "source": [
        "\"\"\"\n",
        "iloc = index tabanlı lokasyon belirler\n",
        "[:,[0,2]]\n",
        "bütün satırları al ama satırları alırken sıfırıncı ve ikinci sütunu al\n",
        "\n",
        "iloc() function accepts only integer type values \n",
        "as the index values for the values to be accessed and displayed.\n",
        "\"\"\"\n",
        "x = df.iloc[:,[0,2]].values # Independent variables -- > experience and age\n",
        "# we get only the zeroth and second column while retrieving all rows\n",
        "x"
      ],
      "metadata": {
        "colab": {
          "base_uri": "https://localhost:8080/"
        },
        "id": "xXLVvu863RGI",
        "outputId": "967e2eb5-e72e-430d-cc64-1b22e366c7d2"
      },
      "execution_count": null,
      "outputs": [
        {
          "output_type": "execute_result",
          "data": {
            "text/plain": [
              "array([[ 0.5, 22. ],\n",
              "       [ 0. , 21. ],\n",
              "       [ 1. , 23. ],\n",
              "       [ 5. , 25. ],\n",
              "       [ 8. , 28. ],\n",
              "       [ 4. , 23. ],\n",
              "       [15. , 35. ],\n",
              "       [ 7. , 29. ],\n",
              "       [ 3. , 22. ],\n",
              "       [ 2. , 23. ],\n",
              "       [12. , 32. ],\n",
              "       [10. , 30. ],\n",
              "       [14. , 34. ],\n",
              "       [ 6. , 27. ]])"
            ]
          },
          "metadata": {},
          "execution_count": 31
        }
      ]
    },
    {
      "cell_type": "code",
      "source": [
        "y = df.salary.values.reshape(-1,1) # the dependent variable\n",
        "y"
      ],
      "metadata": {
        "colab": {
          "base_uri": "https://localhost:8080/"
        },
        "id": "CHY3YUq95scM",
        "outputId": "42de29ee-9a45-496c-afd4-4807d49f2624"
      },
      "execution_count": null,
      "outputs": [
        {
          "output_type": "execute_result",
          "data": {
            "text/plain": [
              "array([[ 2500],\n",
              "       [ 2250],\n",
              "       [ 2750],\n",
              "       [ 8000],\n",
              "       [ 9000],\n",
              "       [ 6900],\n",
              "       [20000],\n",
              "       [ 8500],\n",
              "       [ 6000],\n",
              "       [ 3500],\n",
              "       [15000],\n",
              "       [13000],\n",
              "       [18000],\n",
              "       [ 7500]])"
            ]
          },
          "metadata": {},
          "execution_count": 12
        }
      ]
    },
    {
      "cell_type": "code",
      "source": [
        "# Multi Linear Regression Model Training\n",
        "\n",
        "# Multi Linear Regression Model\n",
        "MLR = LinearRegression() \n",
        "\n",
        "# Linear Regression Training\n",
        "MLR.fit(x,y)"
      ],
      "metadata": {
        "colab": {
          "base_uri": "https://localhost:8080/"
        },
        "id": "Q_MpFnoC6Pfd",
        "outputId": "c2fb1bee-d84d-4a5a-de55-bbdd17254c37"
      },
      "execution_count": null,
      "outputs": [
        {
          "output_type": "execute_result",
          "data": {
            "text/plain": [
              "LinearRegression()"
            ]
          },
          "metadata": {},
          "execution_count": 13
        }
      ]
    },
    {
      "cell_type": "code",
      "source": [
        "# Test_1\n",
        "test_data_1 = np.array([[10,35]]) # experience = 10 and age = 35\n",
        "test_result_1 = MLR.predict(test_data_1)\n",
        "print(\"Salary after 10 years of experience and 35 years old: {} TL\".format(test_result_1[0]))"
      ],
      "metadata": {
        "colab": {
          "base_uri": "https://localhost:8080/"
        },
        "id": "p0comadb6yJ4",
        "outputId": "d8581864-c7e1-4c08-f8a7-b673b98a0d91"
      },
      "execution_count": null,
      "outputs": [
        {
          "output_type": "stream",
          "name": "stdout",
          "text": [
            "Salary after 10 years of experience and 35 years old: [11046.35815877] TL\n"
          ]
        }
      ]
    },
    {
      "cell_type": "code",
      "source": [
        "# Test_2\n",
        "test_data_2 = np.array([[5,35]])\n",
        "test_result_2 = MLR.predict(test_data_2)\n",
        "print(\"Salary after 5 years of experience and 35 years old: {} TL\".format(test_result_2[0]))"
      ],
      "metadata": {
        "colab": {
          "base_uri": "https://localhost:8080/"
        },
        "id": "9cLSDQZi8D8g",
        "outputId": "2f7e43a4-1d75-4aa2-a12d-d6707827ca06"
      },
      "execution_count": null,
      "outputs": [
        {
          "output_type": "stream",
          "name": "stdout",
          "text": [
            "Salary after 5 years of experience and 35 years old: [3418.85455609] TL\n"
          ]
        }
      ]
    },
    {
      "cell_type": "markdown",
      "source": [
        "https://www.analyticsvidhya.com/blog/2021/05/multiple-linear-regression-using-python-and-scikit-learn/"
      ],
      "metadata": {
        "id": "1jKFUX4nnDgJ"
      }
    },
    {
      "cell_type": "code",
      "source": [
        "# sonuç görselleştirme\n",
        "array = np.array([:])\n",
        "\n",
        "plt.figure()\n",
        "plt.scatter(x,y)\n",
        "\n",
        "y_head = MLR.predict(array)\n",
        "\n",
        "plt.plot(array, y_head, color =\"red\") # (experience,salary)\n",
        "plt.xlabel(\"Experience (Year)\")\n",
        "plt.ylabel(\"Salary (TL)\")\n",
        "plt.title(\"Experience - Salary Relationship\")\n",
        "plt.grid(True)\n",
        "plt.show()"
      ],
      "metadata": {
        "id": "h7Zms6oX9CC0"
      },
      "execution_count": null,
      "outputs": []
    },
    {
      "cell_type": "markdown",
      "source": [
        "# **POLYNOMIAL REGRESSION (PR)**"
      ],
      "metadata": {
        "id": "BH_og3vAQC1L"
      }
    },
    {
      "cell_type": "code",
      "source": [
        "import pandas as pd\n",
        "import numpy as np\n",
        "import matplotlib.pyplot as plt\n",
        "\n",
        "from sklearn.linear_model import LinearRegression # Linear\n",
        "from sklearn.preprocessing import PolynomialFeatures # Polynomial"
      ],
      "metadata": {
        "id": "A0dbiULsQGb1"
      },
      "execution_count": 10,
      "outputs": []
    },
    {
      "cell_type": "code",
      "source": [
        "df = pd.read_csv(\"/content/drive/MyDrive/BTK_AKADEMİ_VERİ MARATONU/Veri Setleri/polinomsal_regresyon_veriseti_20220209.csv\", sep = \";\")\n",
        "df.head()"
      ],
      "metadata": {
        "colab": {
          "base_uri": "https://localhost:8080/",
          "height": 206
        },
        "id": "w4gMUBUyQgrO",
        "outputId": "6c857458-74ce-4b03-beb8-f1b4311aebb4"
      },
      "execution_count": 11,
      "outputs": [
        {
          "output_type": "execute_result",
          "data": {
            "text/html": [
              "\n",
              "  <div id=\"df-58c0854c-17be-4b6b-9037-e57c54b7d08f\">\n",
              "    <div class=\"colab-df-container\">\n",
              "      <div>\n",
              "<style scoped>\n",
              "    .dataframe tbody tr th:only-of-type {\n",
              "        vertical-align: middle;\n",
              "    }\n",
              "\n",
              "    .dataframe tbody tr th {\n",
              "        vertical-align: top;\n",
              "    }\n",
              "\n",
              "    .dataframe thead th {\n",
              "        text-align: right;\n",
              "    }\n",
              "</style>\n",
              "<table border=\"1\" class=\"dataframe\">\n",
              "  <thead>\n",
              "    <tr style=\"text-align: right;\">\n",
              "      <th></th>\n",
              "      <th>araba_fiyat</th>\n",
              "      <th>araba_max_hiz</th>\n",
              "    </tr>\n",
              "  </thead>\n",
              "  <tbody>\n",
              "    <tr>\n",
              "      <th>0</th>\n",
              "      <td>60</td>\n",
              "      <td>180</td>\n",
              "    </tr>\n",
              "    <tr>\n",
              "      <th>1</th>\n",
              "      <td>70</td>\n",
              "      <td>180</td>\n",
              "    </tr>\n",
              "    <tr>\n",
              "      <th>2</th>\n",
              "      <td>80</td>\n",
              "      <td>200</td>\n",
              "    </tr>\n",
              "    <tr>\n",
              "      <th>3</th>\n",
              "      <td>100</td>\n",
              "      <td>200</td>\n",
              "    </tr>\n",
              "    <tr>\n",
              "      <th>4</th>\n",
              "      <td>120</td>\n",
              "      <td>200</td>\n",
              "    </tr>\n",
              "  </tbody>\n",
              "</table>\n",
              "</div>\n",
              "      <button class=\"colab-df-convert\" onclick=\"convertToInteractive('df-58c0854c-17be-4b6b-9037-e57c54b7d08f')\"\n",
              "              title=\"Convert this dataframe to an interactive table.\"\n",
              "              style=\"display:none;\">\n",
              "        \n",
              "  <svg xmlns=\"http://www.w3.org/2000/svg\" height=\"24px\"viewBox=\"0 0 24 24\"\n",
              "       width=\"24px\">\n",
              "    <path d=\"M0 0h24v24H0V0z\" fill=\"none\"/>\n",
              "    <path d=\"M18.56 5.44l.94 2.06.94-2.06 2.06-.94-2.06-.94-.94-2.06-.94 2.06-2.06.94zm-11 1L8.5 8.5l.94-2.06 2.06-.94-2.06-.94L8.5 2.5l-.94 2.06-2.06.94zm10 10l.94 2.06.94-2.06 2.06-.94-2.06-.94-.94-2.06-.94 2.06-2.06.94z\"/><path d=\"M17.41 7.96l-1.37-1.37c-.4-.4-.92-.59-1.43-.59-.52 0-1.04.2-1.43.59L10.3 9.45l-7.72 7.72c-.78.78-.78 2.05 0 2.83L4 21.41c.39.39.9.59 1.41.59.51 0 1.02-.2 1.41-.59l7.78-7.78 2.81-2.81c.8-.78.8-2.07 0-2.86zM5.41 20L4 18.59l7.72-7.72 1.47 1.35L5.41 20z\"/>\n",
              "  </svg>\n",
              "      </button>\n",
              "      \n",
              "  <style>\n",
              "    .colab-df-container {\n",
              "      display:flex;\n",
              "      flex-wrap:wrap;\n",
              "      gap: 12px;\n",
              "    }\n",
              "\n",
              "    .colab-df-convert {\n",
              "      background-color: #E8F0FE;\n",
              "      border: none;\n",
              "      border-radius: 50%;\n",
              "      cursor: pointer;\n",
              "      display: none;\n",
              "      fill: #1967D2;\n",
              "      height: 32px;\n",
              "      padding: 0 0 0 0;\n",
              "      width: 32px;\n",
              "    }\n",
              "\n",
              "    .colab-df-convert:hover {\n",
              "      background-color: #E2EBFA;\n",
              "      box-shadow: 0px 1px 2px rgba(60, 64, 67, 0.3), 0px 1px 3px 1px rgba(60, 64, 67, 0.15);\n",
              "      fill: #174EA6;\n",
              "    }\n",
              "\n",
              "    [theme=dark] .colab-df-convert {\n",
              "      background-color: #3B4455;\n",
              "      fill: #D2E3FC;\n",
              "    }\n",
              "\n",
              "    [theme=dark] .colab-df-convert:hover {\n",
              "      background-color: #434B5C;\n",
              "      box-shadow: 0px 1px 3px 1px rgba(0, 0, 0, 0.15);\n",
              "      filter: drop-shadow(0px 1px 2px rgba(0, 0, 0, 0.3));\n",
              "      fill: #FFFFFF;\n",
              "    }\n",
              "  </style>\n",
              "\n",
              "      <script>\n",
              "        const buttonEl =\n",
              "          document.querySelector('#df-58c0854c-17be-4b6b-9037-e57c54b7d08f button.colab-df-convert');\n",
              "        buttonEl.style.display =\n",
              "          google.colab.kernel.accessAllowed ? 'block' : 'none';\n",
              "\n",
              "        async function convertToInteractive(key) {\n",
              "          const element = document.querySelector('#df-58c0854c-17be-4b6b-9037-e57c54b7d08f');\n",
              "          const dataTable =\n",
              "            await google.colab.kernel.invokeFunction('convertToInteractive',\n",
              "                                                     [key], {});\n",
              "          if (!dataTable) return;\n",
              "\n",
              "          const docLinkHtml = 'Like what you see? Visit the ' +\n",
              "            '<a target=\"_blank\" href=https://colab.research.google.com/notebooks/data_table.ipynb>data table notebook</a>'\n",
              "            + ' to learn more about interactive tables.';\n",
              "          element.innerHTML = '';\n",
              "          dataTable['output_type'] = 'display_data';\n",
              "          await google.colab.output.renderOutput(dataTable, element);\n",
              "          const docLink = document.createElement('div');\n",
              "          docLink.innerHTML = docLinkHtml;\n",
              "          element.appendChild(docLink);\n",
              "        }\n",
              "      </script>\n",
              "    </div>\n",
              "  </div>\n",
              "  "
            ],
            "text/plain": [
              "   araba_fiyat  araba_max_hiz\n",
              "0           60            180\n",
              "1           70            180\n",
              "2           80            200\n",
              "3          100            200\n",
              "4          120            200"
            ]
          },
          "metadata": {},
          "execution_count": 11
        }
      ]
    },
    {
      "cell_type": "code",
      "source": [
        "# changing columns name\n",
        "df = df.rename(columns = {\"araba_fiyat\": \"car_price\", \n",
        "                          \"araba_max_hiz\": \"car_max_speed\",})\n",
        "df.head()"
      ],
      "metadata": {
        "colab": {
          "base_uri": "https://localhost:8080/",
          "height": 206
        },
        "id": "H1mX_FPUnMs_",
        "outputId": "1c383e26-72a8-45ed-83e5-e2c2083c498a"
      },
      "execution_count": 12,
      "outputs": [
        {
          "output_type": "execute_result",
          "data": {
            "text/html": [
              "\n",
              "  <div id=\"df-5b5292e6-7994-4a39-8169-8daa06b73eb1\">\n",
              "    <div class=\"colab-df-container\">\n",
              "      <div>\n",
              "<style scoped>\n",
              "    .dataframe tbody tr th:only-of-type {\n",
              "        vertical-align: middle;\n",
              "    }\n",
              "\n",
              "    .dataframe tbody tr th {\n",
              "        vertical-align: top;\n",
              "    }\n",
              "\n",
              "    .dataframe thead th {\n",
              "        text-align: right;\n",
              "    }\n",
              "</style>\n",
              "<table border=\"1\" class=\"dataframe\">\n",
              "  <thead>\n",
              "    <tr style=\"text-align: right;\">\n",
              "      <th></th>\n",
              "      <th>car_price</th>\n",
              "      <th>car_max_speed</th>\n",
              "    </tr>\n",
              "  </thead>\n",
              "  <tbody>\n",
              "    <tr>\n",
              "      <th>0</th>\n",
              "      <td>60</td>\n",
              "      <td>180</td>\n",
              "    </tr>\n",
              "    <tr>\n",
              "      <th>1</th>\n",
              "      <td>70</td>\n",
              "      <td>180</td>\n",
              "    </tr>\n",
              "    <tr>\n",
              "      <th>2</th>\n",
              "      <td>80</td>\n",
              "      <td>200</td>\n",
              "    </tr>\n",
              "    <tr>\n",
              "      <th>3</th>\n",
              "      <td>100</td>\n",
              "      <td>200</td>\n",
              "    </tr>\n",
              "    <tr>\n",
              "      <th>4</th>\n",
              "      <td>120</td>\n",
              "      <td>200</td>\n",
              "    </tr>\n",
              "  </tbody>\n",
              "</table>\n",
              "</div>\n",
              "      <button class=\"colab-df-convert\" onclick=\"convertToInteractive('df-5b5292e6-7994-4a39-8169-8daa06b73eb1')\"\n",
              "              title=\"Convert this dataframe to an interactive table.\"\n",
              "              style=\"display:none;\">\n",
              "        \n",
              "  <svg xmlns=\"http://www.w3.org/2000/svg\" height=\"24px\"viewBox=\"0 0 24 24\"\n",
              "       width=\"24px\">\n",
              "    <path d=\"M0 0h24v24H0V0z\" fill=\"none\"/>\n",
              "    <path d=\"M18.56 5.44l.94 2.06.94-2.06 2.06-.94-2.06-.94-.94-2.06-.94 2.06-2.06.94zm-11 1L8.5 8.5l.94-2.06 2.06-.94-2.06-.94L8.5 2.5l-.94 2.06-2.06.94zm10 10l.94 2.06.94-2.06 2.06-.94-2.06-.94-.94-2.06-.94 2.06-2.06.94z\"/><path d=\"M17.41 7.96l-1.37-1.37c-.4-.4-.92-.59-1.43-.59-.52 0-1.04.2-1.43.59L10.3 9.45l-7.72 7.72c-.78.78-.78 2.05 0 2.83L4 21.41c.39.39.9.59 1.41.59.51 0 1.02-.2 1.41-.59l7.78-7.78 2.81-2.81c.8-.78.8-2.07 0-2.86zM5.41 20L4 18.59l7.72-7.72 1.47 1.35L5.41 20z\"/>\n",
              "  </svg>\n",
              "      </button>\n",
              "      \n",
              "  <style>\n",
              "    .colab-df-container {\n",
              "      display:flex;\n",
              "      flex-wrap:wrap;\n",
              "      gap: 12px;\n",
              "    }\n",
              "\n",
              "    .colab-df-convert {\n",
              "      background-color: #E8F0FE;\n",
              "      border: none;\n",
              "      border-radius: 50%;\n",
              "      cursor: pointer;\n",
              "      display: none;\n",
              "      fill: #1967D2;\n",
              "      height: 32px;\n",
              "      padding: 0 0 0 0;\n",
              "      width: 32px;\n",
              "    }\n",
              "\n",
              "    .colab-df-convert:hover {\n",
              "      background-color: #E2EBFA;\n",
              "      box-shadow: 0px 1px 2px rgba(60, 64, 67, 0.3), 0px 1px 3px 1px rgba(60, 64, 67, 0.15);\n",
              "      fill: #174EA6;\n",
              "    }\n",
              "\n",
              "    [theme=dark] .colab-df-convert {\n",
              "      background-color: #3B4455;\n",
              "      fill: #D2E3FC;\n",
              "    }\n",
              "\n",
              "    [theme=dark] .colab-df-convert:hover {\n",
              "      background-color: #434B5C;\n",
              "      box-shadow: 0px 1px 3px 1px rgba(0, 0, 0, 0.15);\n",
              "      filter: drop-shadow(0px 1px 2px rgba(0, 0, 0, 0.3));\n",
              "      fill: #FFFFFF;\n",
              "    }\n",
              "  </style>\n",
              "\n",
              "      <script>\n",
              "        const buttonEl =\n",
              "          document.querySelector('#df-5b5292e6-7994-4a39-8169-8daa06b73eb1 button.colab-df-convert');\n",
              "        buttonEl.style.display =\n",
              "          google.colab.kernel.accessAllowed ? 'block' : 'none';\n",
              "\n",
              "        async function convertToInteractive(key) {\n",
              "          const element = document.querySelector('#df-5b5292e6-7994-4a39-8169-8daa06b73eb1');\n",
              "          const dataTable =\n",
              "            await google.colab.kernel.invokeFunction('convertToInteractive',\n",
              "                                                     [key], {});\n",
              "          if (!dataTable) return;\n",
              "\n",
              "          const docLinkHtml = 'Like what you see? Visit the ' +\n",
              "            '<a target=\"_blank\" href=https://colab.research.google.com/notebooks/data_table.ipynb>data table notebook</a>'\n",
              "            + ' to learn more about interactive tables.';\n",
              "          element.innerHTML = '';\n",
              "          dataTable['output_type'] = 'display_data';\n",
              "          await google.colab.output.renderOutput(dataTable, element);\n",
              "          const docLink = document.createElement('div');\n",
              "          docLink.innerHTML = docLinkHtml;\n",
              "          element.appendChild(docLink);\n",
              "        }\n",
              "      </script>\n",
              "    </div>\n",
              "  </div>\n",
              "  "
            ],
            "text/plain": [
              "   car_price  car_max_speed\n",
              "0         60            180\n",
              "1         70            180\n",
              "2         80            200\n",
              "3        100            200\n",
              "4        120            200"
            ]
          },
          "metadata": {},
          "execution_count": 12
        }
      ]
    },
    {
      "cell_type": "code",
      "source": [
        "y = df.car_max_speed.values.reshape(-1,1) \n",
        "x = df.car_price.values.reshape(-1,1) "
      ],
      "metadata": {
        "id": "6mUlJkUrQnyH"
      },
      "execution_count": 13,
      "outputs": []
    },
    {
      "cell_type": "code",
      "source": [
        "# Visualization of the data\n",
        "plt.scatter(x,y)\n",
        "plt.xlabel(\"Car Maximum Speed\")\n",
        "plt.ylabel(\"Car Price\")\n",
        "plt.title(\"Car Speed and Price Relationship\")\n",
        "plt.grid(True)\n",
        "plt.show()"
      ],
      "metadata": {
        "colab": {
          "base_uri": "https://localhost:8080/",
          "height": 295
        },
        "id": "Lzo3T0AHQ92G",
        "outputId": "3e285ba0-f552-4609-9e7b-84f0114e86a3"
      },
      "execution_count": 14,
      "outputs": [
        {
          "output_type": "display_data",
          "data": {
            "image/png": "[encoded data removed]",
            "text/plain": [
              "<Figure size 432x288 with 1 Axes>"
            ]
          },
          "metadata": {
            "needs_background": "light"
          }
        }
      ]
    },
    {
      "cell_type": "code",
      "source": [
        "# Linear Regression Model Training\n",
        "\n",
        "# Linear Regression Model\n",
        "lr = LinearRegression()\n",
        "\n",
        "# Linear Regression Training\n",
        "lr.fit(x,y)"
      ],
      "metadata": {
        "colab": {
          "base_uri": "https://localhost:8080/"
        },
        "id": "YSYZb1WWRLp1",
        "outputId": "69d92f6d-e37e-46f9-95ad-5667b0810da4"
      },
      "execution_count": 15,
      "outputs": [
        {
          "output_type": "execute_result",
          "data": {
            "text/plain": [
              "LinearRegression()"
            ]
          },
          "metadata": {},
          "execution_count": 15
        }
      ]
    },
    {
      "cell_type": "code",
      "source": [
        "# Test/Prediction/Visualization with Linear Regression Model\n",
        "y_prediction = lr.predict(x)\n",
        "\n",
        "\n",
        "plt.scatter(x,y)\n",
        "plt.plot(x, y_prediction, color =\"red\") \n",
        "plt.xlabel(\"Car Maximum Speed\")\n",
        "plt.ylabel(\"Car Price\")\n",
        "plt.title(\"Car Speed and Price Relationship\")\n",
        "plt.grid(True)\n",
        "plt.show()\n",
        "\n",
        "car_price = 10000\n",
        "print(\"10 thousand TL car speed estimation: \", lr.predict((np.array([car_price]).reshape(-1,1))))"
      ],
      "metadata": {
        "id": "QxZT0kDJRZQY",
        "colab": {
          "base_uri": "https://localhost:8080/",
          "height": 312
        },
        "outputId": "dd7fd5e9-d61d-4c59-849d-954aed52aa9c"
      },
      "execution_count": 20,
      "outputs": [
        {
          "output_type": "display_data",
          "data": {
            "image/png": "[encoded data removed]",
            "text/plain": [
              "<Figure size 432x288 with 1 Axes>"
            ]
          },
          "metadata": {
            "needs_background": "light"
          }
        },
        {
          "output_type": "stream",
          "name": "stdout",
          "text": [
            "10 thousand TL car speed estimation:  [[871.66401826]]\n"
          ]
        }
      ]
    },
    {
      "cell_type": "code",
      "source": [
        "# Polynomial Regression =  y = b0 + b1*x + b2*x^2 + b3*x^3 + ... + bn*x^n\n",
        "\n",
        "# Polynomial Properties\n",
        "# PR = Polynomial Regression\n",
        "PR = PolynomialFeatures(degree = 4) # 4th order polynomial\n",
        "\n",
        "x_polynomial = PR.fit_transform(x)\n",
        "x_polynomial\n"
      ],
      "metadata": {
        "colab": {
          "base_uri": "https://localhost:8080/"
        },
        "id": "JuchxNCWqeRg",
        "outputId": "37253eeb-685a-4d24-fab2-2b6bbdf61716"
      },
      "execution_count": 31,
      "outputs": [
        {
          "output_type": "execute_result",
          "data": {
            "text/plain": [
              "array([[1.0000000e+00, 6.0000000e+01, 3.6000000e+03, 2.1600000e+05,\n",
              "        1.2960000e+07],\n",
              "       [1.0000000e+00, 7.0000000e+01, 4.9000000e+03, 3.4300000e+05,\n",
              "        2.4010000e+07],\n",
              "       [1.0000000e+00, 8.0000000e+01, 6.4000000e+03, 5.1200000e+05,\n",
              "        4.0960000e+07],\n",
              "       [1.0000000e+00, 1.0000000e+02, 1.0000000e+04, 1.0000000e+06,\n",
              "        1.0000000e+08],\n",
              "       [1.0000000e+00, 1.2000000e+02, 1.4400000e+04, 1.7280000e+06,\n",
              "        2.0736000e+08],\n",
              "       [1.0000000e+00, 1.5000000e+02, 2.2500000e+04, 3.3750000e+06,\n",
              "        5.0625000e+08],\n",
              "       [1.0000000e+00, 2.0000000e+02, 4.0000000e+04, 8.0000000e+06,\n",
              "        1.6000000e+09],\n",
              "       [1.0000000e+00, 2.5000000e+02, 6.2500000e+04, 1.5625000e+07,\n",
              "        3.9062500e+09],\n",
              "       [1.0000000e+00, 3.0000000e+02, 9.0000000e+04, 2.7000000e+07,\n",
              "        8.1000000e+09],\n",
              "       [1.0000000e+00, 4.0000000e+02, 1.6000000e+05, 6.4000000e+07,\n",
              "        2.5600000e+10],\n",
              "       [1.0000000e+00, 5.0000000e+02, 2.5000000e+05, 1.2500000e+08,\n",
              "        6.2500000e+10],\n",
              "       [1.0000000e+00, 7.5000000e+02, 5.6250000e+05, 4.2187500e+08,\n",
              "        3.1640625e+11],\n",
              "       [1.0000000e+00, 1.0000000e+03, 1.0000000e+06, 1.0000000e+09,\n",
              "        1.0000000e+12],\n",
              "       [1.0000000e+00, 2.0000000e+03, 4.0000000e+06, 8.0000000e+09,\n",
              "        1.6000000e+13],\n",
              "       [1.0000000e+00, 3.0000000e+03, 9.0000000e+06, 2.7000000e+10,\n",
              "        8.1000000e+13]])"
            ]
          },
          "metadata": {},
          "execution_count": 31
        }
      ]
    },
    {
      "cell_type": "code",
      "source": [
        "#  In order to compare\n",
        "LR2 = LinearRegression()\n",
        "LR2.fit(x_polynomial, y)"
      ],
      "metadata": {
        "colab": {
          "base_uri": "https://localhost:8080/"
        },
        "id": "YyxiZnpWr8TE",
        "outputId": "88f7d56f-8890-46c7-fa48-abd5d433dad1"
      },
      "execution_count": 32,
      "outputs": [
        {
          "output_type": "execute_result",
          "data": {
            "text/plain": [
              "LinearRegression()"
            ]
          },
          "metadata": {},
          "execution_count": 32
        }
      ]
    },
    {
      "cell_type": "code",
      "source": [
        "# Prediction \n",
        "\n",
        "y_prediction2 = LR2.predict(x_polynomial)\n",
        "\n",
        "plt.scatter(x,y)\n",
        "plt.plot(x, y_prediction, color =\"red\", label = \"Linear\")\n",
        "plt.plot(x, y_prediction2, color = \"green\", label = \"Polynomial\")\n",
        "plt.legend() \n",
        "plt.xlabel(\"Car Maximum Speed\")\n",
        "plt.ylabel(\"Car Price\")\n",
        "plt.title(\"Car Speed and Price Relationship\")\n",
        "plt.grid(True)\n",
        "plt.show()"
      ],
      "metadata": {
        "colab": {
          "base_uri": "https://localhost:8080/",
          "height": 295
        },
        "id": "wug-zIdbsR7h",
        "outputId": "a9583e34-5fbb-44ca-ea40-9fca34373604"
      },
      "execution_count": 33,
      "outputs": [
        {
          "output_type": "display_data",
          "data": {
            "image/png": "[encoded data removed]",
            "text/plain": [
              "<Figure size 432x288 with 1 Axes>"
            ]
          },
          "metadata": {
            "needs_background": "light"
          }
        }
      ]
    },
    {
      "cell_type": "markdown",
      "source": [
        "# **Evaluation of Regression Models** \n",
        "\n",
        "**R-squared (R^2)**\n",
        "\n",
        "\n",
        "*   aka Coefficient of Determination\n",
        "\n",
        "*   statistical measure that represents the proportion of the variance for a dependent variable that's explained by an independent variable or variables in a regression model.\n",
        "\n",
        " ![image.png](data:image/png;base64,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)"
      ],
      "metadata": {
        "id": "mTEZKpkKu5zC"
      }
    },
    {
      "cell_type": "markdown",
      "source": [
        "> By creating linear regression and polynomial regression models, we will evaluate these two models with the R squared method.\n",
        "\n",
        "\n",
        "\n"
      ],
      "metadata": {
        "id": "8EeplG_yv9Dm"
      }
    },
    {
      "cell_type": "code",
      "source": [
        "import pandas as pd\n",
        "import numpy as np\n",
        "import matplotlib.pyplot as plt\n",
        "\n",
        "from sklearn.linear_model import LinearRegression \n",
        "from sklearn.preprocessing import PolynomialFeatures\n",
        "from sklearn.metrics import r2_score "
      ],
      "metadata": {
        "id": "Vyjc60PGv8Nr"
      },
      "execution_count": 1,
      "outputs": []
    },
    {
      "cell_type": "code",
      "source": [
        "# Import Data\n",
        "df = pd.read_csv(\"/content/drive/MyDrive/BTK_AKADEMİ_VERİ MARATONU/Veri Setleri/dogrusal_regresyon_veriseti_20220209.csv\", sep = \";\")\n",
        "df.head()"
      ],
      "metadata": {
        "colab": {
          "base_uri": "https://localhost:8080/",
          "height": 206
        },
        "id": "frMwInswwYZq",
        "outputId": "348b7c73-6def-422a-ac09-e40d3ef499a1"
      },
      "execution_count": 2,
      "outputs": [
        {
          "output_type": "execute_result",
          "data": {
            "text/html": [
              "\n",
              "  <div id=\"df-1d136077-591b-42a5-b0a1-7021d3366b14\">\n",
              "    <div class=\"colab-df-container\">\n",
              "      <div>\n",
              "<style scoped>\n",
              "    .dataframe tbody tr th:only-of-type {\n",
              "        vertical-align: middle;\n",
              "    }\n",
              "\n",
              "    .dataframe tbody tr th {\n",
              "        vertical-align: top;\n",
              "    }\n",
              "\n",
              "    .dataframe thead th {\n",
              "        text-align: right;\n",
              "    }\n",
              "</style>\n",
              "<table border=\"1\" class=\"dataframe\">\n",
              "  <thead>\n",
              "    <tr style=\"text-align: right;\">\n",
              "      <th></th>\n",
              "      <th>deneyim</th>\n",
              "      <th>maas</th>\n",
              "    </tr>\n",
              "  </thead>\n",
              "  <tbody>\n",
              "    <tr>\n",
              "      <th>0</th>\n",
              "      <td>0.5</td>\n",
              "      <td>2500</td>\n",
              "    </tr>\n",
              "    <tr>\n",
              "      <th>1</th>\n",
              "      <td>0.0</td>\n",
              "      <td>2250</td>\n",
              "    </tr>\n",
              "    <tr>\n",
              "      <th>2</th>\n",
              "      <td>1.0</td>\n",
              "      <td>2750</td>\n",
              "    </tr>\n",
              "    <tr>\n",
              "      <th>3</th>\n",
              "      <td>5.0</td>\n",
              "      <td>8000</td>\n",
              "    </tr>\n",
              "    <tr>\n",
              "      <th>4</th>\n",
              "      <td>8.0</td>\n",
              "      <td>9000</td>\n",
              "    </tr>\n",
              "  </tbody>\n",
              "</table>\n",
              "</div>\n",
              "      <button class=\"colab-df-convert\" onclick=\"convertToInteractive('df-1d136077-591b-42a5-b0a1-7021d3366b14')\"\n",
              "              title=\"Convert this dataframe to an interactive table.\"\n",
              "              style=\"display:none;\">\n",
              "        \n",
              "  <svg xmlns=\"http://www.w3.org/2000/svg\" height=\"24px\"viewBox=\"0 0 24 24\"\n",
              "       width=\"24px\">\n",
              "    <path d=\"M0 0h24v24H0V0z\" fill=\"none\"/>\n",
              "    <path d=\"M18.56 5.44l.94 2.06.94-2.06 2.06-.94-2.06-.94-.94-2.06-.94 2.06-2.06.94zm-11 1L8.5 8.5l.94-2.06 2.06-.94-2.06-.94L8.5 2.5l-.94 2.06-2.06.94zm10 10l.94 2.06.94-2.06 2.06-.94-2.06-.94-.94-2.06-.94 2.06-2.06.94z\"/><path d=\"M17.41 7.96l-1.37-1.37c-.4-.4-.92-.59-1.43-.59-.52 0-1.04.2-1.43.59L10.3 9.45l-7.72 7.72c-.78.78-.78 2.05 0 2.83L4 21.41c.39.39.9.59 1.41.59.51 0 1.02-.2 1.41-.59l7.78-7.78 2.81-2.81c.8-.78.8-2.07 0-2.86zM5.41 20L4 18.59l7.72-7.72 1.47 1.35L5.41 20z\"/>\n",
              "  </svg>\n",
              "      </button>\n",
              "      \n",
              "  <style>\n",
              "    .colab-df-container {\n",
              "      display:flex;\n",
              "      flex-wrap:wrap;\n",
              "      gap: 12px;\n",
              "    }\n",
              "\n",
              "    .colab-df-convert {\n",
              "      background-color: #E8F0FE;\n",
              "      border: none;\n",
              "      border-radius: 50%;\n",
              "      cursor: pointer;\n",
              "      display: none;\n",
              "      fill: #1967D2;\n",
              "      height: 32px;\n",
              "      padding: 0 0 0 0;\n",
              "      width: 32px;\n",
              "    }\n",
              "\n",
              "    .colab-df-convert:hover {\n",
              "      background-color: #E2EBFA;\n",
              "      box-shadow: 0px 1px 2px rgba(60, 64, 67, 0.3), 0px 1px 3px 1px rgba(60, 64, 67, 0.15);\n",
              "      fill: #174EA6;\n",
              "    }\n",
              "\n",
              "    [theme=dark] .colab-df-convert {\n",
              "      background-color: #3B4455;\n",
              "      fill: #D2E3FC;\n",
              "    }\n",
              "\n",
              "    [theme=dark] .colab-df-convert:hover {\n",
              "      background-color: #434B5C;\n",
              "      box-shadow: 0px 1px 3px 1px rgba(0, 0, 0, 0.15);\n",
              "      filter: drop-shadow(0px 1px 2px rgba(0, 0, 0, 0.3));\n",
              "      fill: #FFFFFF;\n",
              "    }\n",
              "  </style>\n",
              "\n",
              "      <script>\n",
              "        const buttonEl =\n",
              "          document.querySelector('#df-1d136077-591b-42a5-b0a1-7021d3366b14 button.colab-df-convert');\n",
              "        buttonEl.style.display =\n",
              "          google.colab.kernel.accessAllowed ? 'block' : 'none';\n",
              "\n",
              "        async function convertToInteractive(key) {\n",
              "          const element = document.querySelector('#df-1d136077-591b-42a5-b0a1-7021d3366b14');\n",
              "          const dataTable =\n",
              "            await google.colab.kernel.invokeFunction('convertToInteractive',\n",
              "                                                     [key], {});\n",
              "          if (!dataTable) return;\n",
              "\n",
              "          const docLinkHtml = 'Like what you see? Visit the ' +\n",
              "            '<a target=\"_blank\" href=https://colab.research.google.com/notebooks/data_table.ipynb>data table notebook</a>'\n",
              "            + ' to learn more about interactive tables.';\n",
              "          element.innerHTML = '';\n",
              "          dataTable['output_type'] = 'display_data';\n",
              "          await google.colab.output.renderOutput(dataTable, element);\n",
              "          const docLink = document.createElement('div');\n",
              "          docLink.innerHTML = docLinkHtml;\n",
              "          element.appendChild(docLink);\n",
              "        }\n",
              "      </script>\n",
              "    </div>\n",
              "  </div>\n",
              "  "
            ],
            "text/plain": [
              "   deneyim  maas\n",
              "0      0.5  2500\n",
              "1      0.0  2250\n",
              "2      1.0  2750\n",
              "3      5.0  8000\n",
              "4      8.0  9000"
            ]
          },
          "metadata": {},
          "execution_count": 2
        }
      ]
    },
    {
      "cell_type": "code",
      "source": [
        "# changing columns name\n",
        "df = df.rename(columns = {\"deneyim\": \"experience\", \n",
        "                          \"maas\": \"salary\"})\n",
        "df.head()"
      ],
      "metadata": {
        "colab": {
          "base_uri": "https://localhost:8080/",
          "height": 206
        },
        "id": "6MDfu6vPxRGV",
        "outputId": "242157b8-5e4f-47f5-9c20-6a3d7069c3e5"
      },
      "execution_count": 3,
      "outputs": [
        {
          "output_type": "execute_result",
          "data": {
            "text/html": [
              "\n",
              "  <div id=\"df-731cb238-1a92-4acc-ac5f-315e6dcc4eb1\">\n",
              "    <div class=\"colab-df-container\">\n",
              "      <div>\n",
              "<style scoped>\n",
              "    .dataframe tbody tr th:only-of-type {\n",
              "        vertical-align: middle;\n",
              "    }\n",
              "\n",
              "    .dataframe tbody tr th {\n",
              "        vertical-align: top;\n",
              "    }\n",
              "\n",
              "    .dataframe thead th {\n",
              "        text-align: right;\n",
              "    }\n",
              "</style>\n",
              "<table border=\"1\" class=\"dataframe\">\n",
              "  <thead>\n",
              "    <tr style=\"text-align: right;\">\n",
              "      <th></th>\n",
              "      <th>experience</th>\n",
              "      <th>salary</th>\n",
              "    </tr>\n",
              "  </thead>\n",
              "  <tbody>\n",
              "    <tr>\n",
              "      <th>0</th>\n",
              "      <td>0.5</td>\n",
              "      <td>2500</td>\n",
              "    </tr>\n",
              "    <tr>\n",
              "      <th>1</th>\n",
              "      <td>0.0</td>\n",
              "      <td>2250</td>\n",
              "    </tr>\n",
              "    <tr>\n",
              "      <th>2</th>\n",
              "      <td>1.0</td>\n",
              "      <td>2750</td>\n",
              "    </tr>\n",
              "    <tr>\n",
              "      <th>3</th>\n",
              "      <td>5.0</td>\n",
              "      <td>8000</td>\n",
              "    </tr>\n",
              "    <tr>\n",
              "      <th>4</th>\n",
              "      <td>8.0</td>\n",
              "      <td>9000</td>\n",
              "    </tr>\n",
              "  </tbody>\n",
              "</table>\n",
              "</div>\n",
              "      <button class=\"colab-df-convert\" onclick=\"convertToInteractive('df-731cb238-1a92-4acc-ac5f-315e6dcc4eb1')\"\n",
              "              title=\"Convert this dataframe to an interactive table.\"\n",
              "              style=\"display:none;\">\n",
              "        \n",
              "  <svg xmlns=\"http://www.w3.org/2000/svg\" height=\"24px\"viewBox=\"0 0 24 24\"\n",
              "       width=\"24px\">\n",
              "    <path d=\"M0 0h24v24H0V0z\" fill=\"none\"/>\n",
              "    <path d=\"M18.56 5.44l.94 2.06.94-2.06 2.06-.94-2.06-.94-.94-2.06-.94 2.06-2.06.94zm-11 1L8.5 8.5l.94-2.06 2.06-.94-2.06-.94L8.5 2.5l-.94 2.06-2.06.94zm10 10l.94 2.06.94-2.06 2.06-.94-2.06-.94-.94-2.06-.94 2.06-2.06.94z\"/><path d=\"M17.41 7.96l-1.37-1.37c-.4-.4-.92-.59-1.43-.59-.52 0-1.04.2-1.43.59L10.3 9.45l-7.72 7.72c-.78.78-.78 2.05 0 2.83L4 21.41c.39.39.9.59 1.41.59.51 0 1.02-.2 1.41-.59l7.78-7.78 2.81-2.81c.8-.78.8-2.07 0-2.86zM5.41 20L4 18.59l7.72-7.72 1.47 1.35L5.41 20z\"/>\n",
              "  </svg>\n",
              "      </button>\n",
              "      \n",
              "  <style>\n",
              "    .colab-df-container {\n",
              "      display:flex;\n",
              "      flex-wrap:wrap;\n",
              "      gap: 12px;\n",
              "    }\n",
              "\n",
              "    .colab-df-convert {\n",
              "      background-color: #E8F0FE;\n",
              "      border: none;\n",
              "      border-radius: 50%;\n",
              "      cursor: pointer;\n",
              "      display: none;\n",
              "      fill: #1967D2;\n",
              "      height: 32px;\n",
              "      padding: 0 0 0 0;\n",
              "      width: 32px;\n",
              "    }\n",
              "\n",
              "    .colab-df-convert:hover {\n",
              "      background-color: #E2EBFA;\n",
              "      box-shadow: 0px 1px 2px rgba(60, 64, 67, 0.3), 0px 1px 3px 1px rgba(60, 64, 67, 0.15);\n",
              "      fill: #174EA6;\n",
              "    }\n",
              "\n",
              "    [theme=dark] .colab-df-convert {\n",
              "      background-color: #3B4455;\n",
              "      fill: #D2E3FC;\n",
              "    }\n",
              "\n",
              "    [theme=dark] .colab-df-convert:hover {\n",
              "      background-color: #434B5C;\n",
              "      box-shadow: 0px 1px 3px 1px rgba(0, 0, 0, 0.15);\n",
              "      filter: drop-shadow(0px 1px 2px rgba(0, 0, 0, 0.3));\n",
              "      fill: #FFFFFF;\n",
              "    }\n",
              "  </style>\n",
              "\n",
              "      <script>\n",
              "        const buttonEl =\n",
              "          document.querySelector('#df-731cb238-1a92-4acc-ac5f-315e6dcc4eb1 button.colab-df-convert');\n",
              "        buttonEl.style.display =\n",
              "          google.colab.kernel.accessAllowed ? 'block' : 'none';\n",
              "\n",
              "        async function convertToInteractive(key) {\n",
              "          const element = document.querySelector('#df-731cb238-1a92-4acc-ac5f-315e6dcc4eb1');\n",
              "          const dataTable =\n",
              "            await google.colab.kernel.invokeFunction('convertToInteractive',\n",
              "                                                     [key], {});\n",
              "          if (!dataTable) return;\n",
              "\n",
              "          const docLinkHtml = 'Like what you see? Visit the ' +\n",
              "            '<a target=\"_blank\" href=https://colab.research.google.com/notebooks/data_table.ipynb>data table notebook</a>'\n",
              "            + ' to learn more about interactive tables.';\n",
              "          element.innerHTML = '';\n",
              "          dataTable['output_type'] = 'display_data';\n",
              "          await google.colab.output.renderOutput(dataTable, element);\n",
              "          const docLink = document.createElement('div');\n",
              "          docLink.innerHTML = docLinkHtml;\n",
              "          element.appendChild(docLink);\n",
              "        }\n",
              "      </script>\n",
              "    </div>\n",
              "  </div>\n",
              "  "
            ],
            "text/plain": [
              "   experience  salary\n",
              "0         0.5    2500\n",
              "1         0.0    2250\n",
              "2         1.0    2750\n",
              "3         5.0    8000\n",
              "4         8.0    9000"
            ]
          },
          "metadata": {},
          "execution_count": 3
        }
      ]
    },
    {
      "cell_type": "code",
      "source": [
        "# Visualize Data\n",
        "plt.scatter(df.experience,df.salary)\n",
        "plt.xlabel(\"Experience (Year)\")\n",
        "plt.ylabel(\"Salary (TL)\")\n",
        "plt.title(\"Experience - Salary Relationship\")\n",
        "plt.grid(True)\n",
        "plt.show()"
      ],
      "metadata": {
        "colab": {
          "base_uri": "https://localhost:8080/",
          "height": 295
        },
        "id": "MA0bAeWvxbDr",
        "outputId": "d4f9993f-8e0b-49d1-c979-63e8e9c4669e"
      },
      "execution_count": 4,
      "outputs": [
        {
          "output_type": "display_data",
          "data": {
            "image/png": "[encoded data removed]",
            "text/plain": [
              "<Figure size 432x288 with 1 Axes>"
            ]
          },
          "metadata": {
            "needs_background": "light"
          }
        }
      ]
    },
    {
      "cell_type": "code",
      "source": [
        "# Convert the salary and experience columns in data to numpy array\n",
        "x = df.experience.values.reshape(-1,1)\n",
        "y = df.salary.values.reshape(-1,1)\n",
        "# Sklearn wants functions in this format"
      ],
      "metadata": {
        "id": "j7Yvl_OnzagW"
      },
      "execution_count": 5,
      "outputs": []
    },
    {
      "cell_type": "code",
      "source": [
        "# Linear Regression Model Training\n",
        "\n",
        "# Linear Regression Model\n",
        "linear_reg = LinearRegression()\n",
        "\n",
        "# Linear Regression Training \n",
        "linear_reg.fit(x,y)\n",
        "# Fit linear model"
      ],
      "metadata": {
        "colab": {
          "base_uri": "https://localhost:8080/"
        },
        "id": "3iejkwdoxgGB",
        "outputId": "724d603b-e27e-41e3-e1d1-33bcdb6b5528"
      },
      "execution_count": 6,
      "outputs": [
        {
          "output_type": "execute_result",
          "data": {
            "text/plain": [
              "LinearRegression()"
            ]
          },
          "metadata": {},
          "execution_count": 6
        }
      ]
    },
    {
      "cell_type": "code",
      "source": [
        "# Polynomial Properties\n",
        "# PR = Polynomial Regression\n",
        "PR = PolynomialFeatures(degree = 2) # 2nd order polynomial\n",
        "\n",
        "x_polynomial = PR.fit_transform(x)\n",
        "\n",
        "Poly_Reg = LinearRegression()\n",
        "Poly_Reg.fit(x_polynomial, y)"
      ],
      "metadata": {
        "colab": {
          "base_uri": "https://localhost:8080/"
        },
        "id": "9RlNMe7bxoMr",
        "outputId": "304f8c1d-6c03-4523-e527-4ef24f56d16b"
      },
      "execution_count": 7,
      "outputs": [
        {
          "output_type": "execute_result",
          "data": {
            "text/plain": [
              "LinearRegression()"
            ]
          },
          "metadata": {},
          "execution_count": 7
        }
      ]
    },
    {
      "cell_type": "code",
      "source": [
        "# Test\n",
        "y_prediction_linear = linear_reg.predict(x)\n",
        "y_prediction_poly = Poly_Reg.predict(x_polynomial)\n",
        "\n",
        "plt.scatter(df.experience, df.salary)\n",
        "plt.plot(x, y_prediction_linear, color =\"red\", label = \"Linear\")\n",
        "plt.scatter(x, y_prediction_poly, color = \"green\", label = \"Polynomial\")\n",
        "plt.legend() \n",
        "plt.xlabel(\"Experience (Year)\")\n",
        "plt.ylabel(\"Salary (TL)\")\n",
        "plt.title(\"Experience-Salary Relationship\")\n",
        "plt.grid(True)\n",
        "plt.show()"
      ],
      "metadata": {
        "colab": {
          "base_uri": "https://localhost:8080/",
          "height": 295
        },
        "id": "TENj3ju2yK7x",
        "outputId": "e82c8a9f-f289-4f75-b4c8-4fca823a8894"
      },
      "execution_count": 9,
      "outputs": [
        {
          "output_type": "display_data",
          "data": {
            "image/png": "[encoded data removed]",
            "text/plain": [
              "<Figure size 432x288 with 1 Axes>"
            ]
          },
          "metadata": {
            "needs_background": "light"
          }
        }
      ]
    },
    {
      "cell_type": "code",
      "source": [
        "print(\"Linear Regression R squared: {}\", r2_score(y,y_prediction_linear))\n",
        "print(\"Polynomial Regression R squared: {}\", r2_score(y,y_prediction_poly))"
      ],
      "metadata": {
        "colab": {
          "base_uri": "https://localhost:8080/"
        },
        "id": "lpMQj6c-zCCF",
        "outputId": "1d7afc36-191f-4149-9a6e-85976636c610"
      },
      "execution_count": 10,
      "outputs": [
        {
          "output_type": "stream",
          "name": "stdout",
          "text": [
            "Linear Regression R squared: {} 0.9775283164949903\n",
            "Polynomial Regression R squared: {} 0.9854449464578782\n"
          ]
        }
      ]
    },
    {
      "cell_type": "markdown",
      "source": [
        "# **CLASSIFICATION**\n",
        "\n",
        "\n",
        "*   predictive modeling problem where a class label is predicted for a given example of input data.\n",
        "\n",
        "\n"
      ],
      "metadata": {
        "id": "a51onjzG3OiL"
      }
    },
    {
      "cell_type": "markdown",
      "source": [
        "**Logistic Regression**"
      ],
      "metadata": {
        "id": "vTCFbqZp34Y8"
      }
    },
    {
      "cell_type": "code",
      "source": [
        "import numpy as np\n",
        "import pandas as pd\n",
        "import matplotlib.pyplot as plt\n",
        "import seaborn as sns\n",
        "\n",
        "#closing warnings\n",
        "import warnings\n",
        "warnings.filterwarnings(\"ignore\")"
      ],
      "metadata": {
        "id": "VIrzExJNDSmk"
      },
      "execution_count": 6,
      "outputs": []
    },
    {
      "cell_type": "code",
      "source": [
        "# Import Data\n",
        "data = pd.read_csv(\"/content/drive/MyDrive/BTK_AKADEMİ_VERİ MARATONU/Veri Setleri/ortopedik_hastalarin_biyomekanik_ozellikleri_20220209.csv\")\n",
        "data.head()"
      ],
      "metadata": {
        "colab": {
          "base_uri": "https://localhost:8080/",
          "height": 288
        },
        "id": "tnJ57V_63M83",
        "outputId": "40e8012f-cb6c-4dda-8c51-eec897630bd4"
      },
      "execution_count": 7,
      "outputs": [
        {
          "output_type": "execute_result",
          "data": {
            "text/html": [
              "\n",
              "  <div id=\"df-46ca4cd2-994d-4790-b010-62eb2c860af5\">\n",
              "    <div class=\"colab-df-container\">\n",
              "      <div>\n",
              "<style scoped>\n",
              "    .dataframe tbody tr th:only-of-type {\n",
              "        vertical-align: middle;\n",
              "    }\n",
              "\n",
              "    .dataframe tbody tr th {\n",
              "        vertical-align: top;\n",
              "    }\n",
              "\n",
              "    .dataframe thead th {\n",
              "        text-align: right;\n",
              "    }\n",
              "</style>\n",
              "<table border=\"1\" class=\"dataframe\">\n",
              "  <thead>\n",
              "    <tr style=\"text-align: right;\">\n",
              "      <th></th>\n",
              "      <th>pelvic_incidence</th>\n",
              "      <th>pelvic_tilt numeric</th>\n",
              "      <th>lumbar_lordosis_angle</th>\n",
              "      <th>sacral_slope</th>\n",
              "      <th>pelvic_radius</th>\n",
              "      <th>degree_spondylolisthesis</th>\n",
              "      <th>class</th>\n",
              "    </tr>\n",
              "  </thead>\n",
              "  <tbody>\n",
              "    <tr>\n",
              "      <th>0</th>\n",
              "      <td>63.027817</td>\n",
              "      <td>22.552586</td>\n",
              "      <td>39.609117</td>\n",
              "      <td>40.475232</td>\n",
              "      <td>98.672917</td>\n",
              "      <td>-0.254400</td>\n",
              "      <td>Abnormal</td>\n",
              "    </tr>\n",
              "    <tr>\n",
              "      <th>1</th>\n",
              "      <td>39.056951</td>\n",
              "      <td>10.060991</td>\n",
              "      <td>25.015378</td>\n",
              "      <td>28.995960</td>\n",
              "      <td>114.405425</td>\n",
              "      <td>4.564259</td>\n",
              "      <td>Abnormal</td>\n",
              "    </tr>\n",
              "    <tr>\n",
              "      <th>2</th>\n",
              "      <td>68.832021</td>\n",
              "      <td>22.218482</td>\n",
              "      <td>50.092194</td>\n",
              "      <td>46.613539</td>\n",
              "      <td>105.985135</td>\n",
              "      <td>-3.530317</td>\n",
              "      <td>Abnormal</td>\n",
              "    </tr>\n",
              "    <tr>\n",
              "      <th>3</th>\n",
              "      <td>69.297008</td>\n",
              "      <td>24.652878</td>\n",
              "      <td>44.311238</td>\n",
              "      <td>44.644130</td>\n",
              "      <td>101.868495</td>\n",
              "      <td>11.211523</td>\n",
              "      <td>Abnormal</td>\n",
              "    </tr>\n",
              "    <tr>\n",
              "      <th>4</th>\n",
              "      <td>49.712859</td>\n",
              "      <td>9.652075</td>\n",
              "      <td>28.317406</td>\n",
              "      <td>40.060784</td>\n",
              "      <td>108.168725</td>\n",
              "      <td>7.918501</td>\n",
              "      <td>Abnormal</td>\n",
              "    </tr>\n",
              "  </tbody>\n",
              "</table>\n",
              "</div>\n",
              "      <button class=\"colab-df-convert\" onclick=\"convertToInteractive('df-46ca4cd2-994d-4790-b010-62eb2c860af5')\"\n",
              "              title=\"Convert this dataframe to an interactive table.\"\n",
              "              style=\"display:none;\">\n",
              "        \n",
              "  <svg xmlns=\"http://www.w3.org/2000/svg\" height=\"24px\"viewBox=\"0 0 24 24\"\n",
              "       width=\"24px\">\n",
              "    <path d=\"M0 0h24v24H0V0z\" fill=\"none\"/>\n",
              "    <path d=\"M18.56 5.44l.94 2.06.94-2.06 2.06-.94-2.06-.94-.94-2.06-.94 2.06-2.06.94zm-11 1L8.5 8.5l.94-2.06 2.06-.94-2.06-.94L8.5 2.5l-.94 2.06-2.06.94zm10 10l.94 2.06.94-2.06 2.06-.94-2.06-.94-.94-2.06-.94 2.06-2.06.94z\"/><path d=\"M17.41 7.96l-1.37-1.37c-.4-.4-.92-.59-1.43-.59-.52 0-1.04.2-1.43.59L10.3 9.45l-7.72 7.72c-.78.78-.78 2.05 0 2.83L4 21.41c.39.39.9.59 1.41.59.51 0 1.02-.2 1.41-.59l7.78-7.78 2.81-2.81c.8-.78.8-2.07 0-2.86zM5.41 20L4 18.59l7.72-7.72 1.47 1.35L5.41 20z\"/>\n",
              "  </svg>\n",
              "      </button>\n",
              "      \n",
              "  <style>\n",
              "    .colab-df-container {\n",
              "      display:flex;\n",
              "      flex-wrap:wrap;\n",
              "      gap: 12px;\n",
              "    }\n",
              "\n",
              "    .colab-df-convert {\n",
              "      background-color: #E8F0FE;\n",
              "      border: none;\n",
              "      border-radius: 50%;\n",
              "      cursor: pointer;\n",
              "      display: none;\n",
              "      fill: #1967D2;\n",
              "      height: 32px;\n",
              "      padding: 0 0 0 0;\n",
              "      width: 32px;\n",
              "    }\n",
              "\n",
              "    .colab-df-convert:hover {\n",
              "      background-color: #E2EBFA;\n",
              "      box-shadow: 0px 1px 2px rgba(60, 64, 67, 0.3), 0px 1px 3px 1px rgba(60, 64, 67, 0.15);\n",
              "      fill: #174EA6;\n",
              "    }\n",
              "\n",
              "    [theme=dark] .colab-df-convert {\n",
              "      background-color: #3B4455;\n",
              "      fill: #D2E3FC;\n",
              "    }\n",
              "\n",
              "    [theme=dark] .colab-df-convert:hover {\n",
              "      background-color: #434B5C;\n",
              "      box-shadow: 0px 1px 3px 1px rgba(0, 0, 0, 0.15);\n",
              "      filter: drop-shadow(0px 1px 2px rgba(0, 0, 0, 0.3));\n",
              "      fill: #FFFFFF;\n",
              "    }\n",
              "  </style>\n",
              "\n",
              "      <script>\n",
              "        const buttonEl =\n",
              "          document.querySelector('#df-46ca4cd2-994d-4790-b010-62eb2c860af5 button.colab-df-convert');\n",
              "        buttonEl.style.display =\n",
              "          google.colab.kernel.accessAllowed ? 'block' : 'none';\n",
              "\n",
              "        async function convertToInteractive(key) {\n",
              "          const element = document.querySelector('#df-46ca4cd2-994d-4790-b010-62eb2c860af5');\n",
              "          const dataTable =\n",
              "            await google.colab.kernel.invokeFunction('convertToInteractive',\n",
              "                                                     [key], {});\n",
              "          if (!dataTable) return;\n",
              "\n",
              "          const docLinkHtml = 'Like what you see? Visit the ' +\n",
              "            '<a target=\"_blank\" href=https://colab.research.google.com/notebooks/data_table.ipynb>data table notebook</a>'\n",
              "            + ' to learn more about interactive tables.';\n",
              "          element.innerHTML = '';\n",
              "          dataTable['output_type'] = 'display_data';\n",
              "          await google.colab.output.renderOutput(dataTable, element);\n",
              "          const docLink = document.createElement('div');\n",
              "          docLink.innerHTML = docLinkHtml;\n",
              "          element.appendChild(docLink);\n",
              "        }\n",
              "      </script>\n",
              "    </div>\n",
              "  </div>\n",
              "  "
            ],
            "text/plain": [
              "   pelvic_incidence  pelvic_tilt numeric  ...  degree_spondylolisthesis     class\n",
              "0         63.027817            22.552586  ...                 -0.254400  Abnormal\n",
              "1         39.056951            10.060991  ...                  4.564259  Abnormal\n",
              "2         68.832021            22.218482  ...                 -3.530317  Abnormal\n",
              "3         69.297008            24.652878  ...                 11.211523  Abnormal\n",
              "4         49.712859             9.652075  ...                  7.918501  Abnormal\n",
              "\n",
              "[5 rows x 7 columns]"
            ]
          },
          "metadata": {},
          "execution_count": 7
        }
      ]
    },
    {
      "cell_type": "code",
      "source": [
        "# Class is the categorical variable\n",
        "# Visualize class\n",
        "# class --> Normal and Abnormal\n",
        "\n",
        "sns.countplot(data[\"class\"]) \n",
        "plt.show()"
      ],
      "metadata": {
        "colab": {
          "base_uri": "https://localhost:8080/",
          "height": 279
        },
        "id": "I_MjRoDgDgpk",
        "outputId": "f934a064-a7aa-490e-938c-ceca1781e338"
      },
      "execution_count": 8,
      "outputs": [
        {
          "output_type": "display_data",
          "data": {
            "image/png": "[encoded data removed]",
            "text/plain": [
              "<Figure size 432x288 with 1 Axes>"
            ]
          },
          "metadata": {
            "needs_background": "light"
          }
        }
      ]
    },
    {
      "cell_type": "code",
      "source": [
        "# we want it to consist of numeric variables\n",
        "# abnormal = 1 and normal = 0\n",
        "data[\"class\"] = [1 if each == \"Abnormal\" else 0 for each in data[\"class\"]]\n",
        "data.head()"
      ],
      "metadata": {
        "colab": {
          "base_uri": "https://localhost:8080/",
          "height": 288
        },
        "id": "mm3-syz-EBTm",
        "outputId": "689991d9-9c01-4ac2-c1f6-026110b9b33a"
      },
      "execution_count": 9,
      "outputs": [
        {
          "output_type": "execute_result",
          "data": {
            "text/html": [
              "\n",
              "  <div id=\"df-104fd631-cb42-416c-b641-5284082645d3\">\n",
              "    <div class=\"colab-df-container\">\n",
              "      <div>\n",
              "<style scoped>\n",
              "    .dataframe tbody tr th:only-of-type {\n",
              "        vertical-align: middle;\n",
              "    }\n",
              "\n",
              "    .dataframe tbody tr th {\n",
              "        vertical-align: top;\n",
              "    }\n",
              "\n",
              "    .dataframe thead th {\n",
              "        text-align: right;\n",
              "    }\n",
              "</style>\n",
              "<table border=\"1\" class=\"dataframe\">\n",
              "  <thead>\n",
              "    <tr style=\"text-align: right;\">\n",
              "      <th></th>\n",
              "      <th>pelvic_incidence</th>\n",
              "      <th>pelvic_tilt numeric</th>\n",
              "      <th>lumbar_lordosis_angle</th>\n",
              "      <th>sacral_slope</th>\n",
              "      <th>pelvic_radius</th>\n",
              "      <th>degree_spondylolisthesis</th>\n",
              "      <th>class</th>\n",
              "    </tr>\n",
              "  </thead>\n",
              "  <tbody>\n",
              "    <tr>\n",
              "      <th>0</th>\n",
              "      <td>63.027817</td>\n",
              "      <td>22.552586</td>\n",
              "      <td>39.609117</td>\n",
              "      <td>40.475232</td>\n",
              "      <td>98.672917</td>\n",
              "      <td>-0.254400</td>\n",
              "      <td>1</td>\n",
              "    </tr>\n",
              "    <tr>\n",
              "      <th>1</th>\n",
              "      <td>39.056951</td>\n",
              "      <td>10.060991</td>\n",
              "      <td>25.015378</td>\n",
              "      <td>28.995960</td>\n",
              "      <td>114.405425</td>\n",
              "      <td>4.564259</td>\n",
              "      <td>1</td>\n",
              "    </tr>\n",
              "    <tr>\n",
              "      <th>2</th>\n",
              "      <td>68.832021</td>\n",
              "      <td>22.218482</td>\n",
              "      <td>50.092194</td>\n",
              "      <td>46.613539</td>\n",
              "      <td>105.985135</td>\n",
              "      <td>-3.530317</td>\n",
              "      <td>1</td>\n",
              "    </tr>\n",
              "    <tr>\n",
              "      <th>3</th>\n",
              "      <td>69.297008</td>\n",
              "      <td>24.652878</td>\n",
              "      <td>44.311238</td>\n",
              "      <td>44.644130</td>\n",
              "      <td>101.868495</td>\n",
              "      <td>11.211523</td>\n",
              "      <td>1</td>\n",
              "    </tr>\n",
              "    <tr>\n",
              "      <th>4</th>\n",
              "      <td>49.712859</td>\n",
              "      <td>9.652075</td>\n",
              "      <td>28.317406</td>\n",
              "      <td>40.060784</td>\n",
              "      <td>108.168725</td>\n",
              "      <td>7.918501</td>\n",
              "      <td>1</td>\n",
              "    </tr>\n",
              "  </tbody>\n",
              "</table>\n",
              "</div>\n",
              "      <button class=\"colab-df-convert\" onclick=\"convertToInteractive('df-104fd631-cb42-416c-b641-5284082645d3')\"\n",
              "              title=\"Convert this dataframe to an interactive table.\"\n",
              "              style=\"display:none;\">\n",
              "        \n",
              "  <svg xmlns=\"http://www.w3.org/2000/svg\" height=\"24px\"viewBox=\"0 0 24 24\"\n",
              "       width=\"24px\">\n",
              "    <path d=\"M0 0h24v24H0V0z\" fill=\"none\"/>\n",
              "    <path d=\"M18.56 5.44l.94 2.06.94-2.06 2.06-.94-2.06-.94-.94-2.06-.94 2.06-2.06.94zm-11 1L8.5 8.5l.94-2.06 2.06-.94-2.06-.94L8.5 2.5l-.94 2.06-2.06.94zm10 10l.94 2.06.94-2.06 2.06-.94-2.06-.94-.94-2.06-.94 2.06-2.06.94z\"/><path d=\"M17.41 7.96l-1.37-1.37c-.4-.4-.92-.59-1.43-.59-.52 0-1.04.2-1.43.59L10.3 9.45l-7.72 7.72c-.78.78-.78 2.05 0 2.83L4 21.41c.39.39.9.59 1.41.59.51 0 1.02-.2 1.41-.59l7.78-7.78 2.81-2.81c.8-.78.8-2.07 0-2.86zM5.41 20L4 18.59l7.72-7.72 1.47 1.35L5.41 20z\"/>\n",
              "  </svg>\n",
              "      </button>\n",
              "      \n",
              "  <style>\n",
              "    .colab-df-container {\n",
              "      display:flex;\n",
              "      flex-wrap:wrap;\n",
              "      gap: 12px;\n",
              "    }\n",
              "\n",
              "    .colab-df-convert {\n",
              "      background-color: #E8F0FE;\n",
              "      border: none;\n",
              "      border-radius: 50%;\n",
              "      cursor: pointer;\n",
              "      display: none;\n",
              "      fill: #1967D2;\n",
              "      height: 32px;\n",
              "      padding: 0 0 0 0;\n",
              "      width: 32px;\n",
              "    }\n",
              "\n",
              "    .colab-df-convert:hover {\n",
              "      background-color: #E2EBFA;\n",
              "      box-shadow: 0px 1px 2px rgba(60, 64, 67, 0.3), 0px 1px 3px 1px rgba(60, 64, 67, 0.15);\n",
              "      fill: #174EA6;\n",
              "    }\n",
              "\n",
              "    [theme=dark] .colab-df-convert {\n",
              "      background-color: #3B4455;\n",
              "      fill: #D2E3FC;\n",
              "    }\n",
              "\n",
              "    [theme=dark] .colab-df-convert:hover {\n",
              "      background-color: #434B5C;\n",
              "      box-shadow: 0px 1px 3px 1px rgba(0, 0, 0, 0.15);\n",
              "      filter: drop-shadow(0px 1px 2px rgba(0, 0, 0, 0.3));\n",
              "      fill: #FFFFFF;\n",
              "    }\n",
              "  </style>\n",
              "\n",
              "      <script>\n",
              "        const buttonEl =\n",
              "          document.querySelector('#df-104fd631-cb42-416c-b641-5284082645d3 button.colab-df-convert');\n",
              "        buttonEl.style.display =\n",
              "          google.colab.kernel.accessAllowed ? 'block' : 'none';\n",
              "\n",
              "        async function convertToInteractive(key) {\n",
              "          const element = document.querySelector('#df-104fd631-cb42-416c-b641-5284082645d3');\n",
              "          const dataTable =\n",
              "            await google.colab.kernel.invokeFunction('convertToInteractive',\n",
              "                                                     [key], {});\n",
              "          if (!dataTable) return;\n",
              "\n",
              "          const docLinkHtml = 'Like what you see? Visit the ' +\n",
              "            '<a target=\"_blank\" href=https://colab.research.google.com/notebooks/data_table.ipynb>data table notebook</a>'\n",
              "            + ' to learn more about interactive tables.';\n",
              "          element.innerHTML = '';\n",
              "          dataTable['output_type'] = 'display_data';\n",
              "          await google.colab.output.renderOutput(dataTable, element);\n",
              "          const docLink = document.createElement('div');\n",
              "          docLink.innerHTML = docLinkHtml;\n",
              "          element.appendChild(docLink);\n",
              "        }\n",
              "      </script>\n",
              "    </div>\n",
              "  </div>\n",
              "  "
            ],
            "text/plain": [
              "   pelvic_incidence  pelvic_tilt numeric  ...  degree_spondylolisthesis  class\n",
              "0         63.027817            22.552586  ...                 -0.254400      1\n",
              "1         39.056951            10.060991  ...                  4.564259      1\n",
              "2         68.832021            22.218482  ...                 -3.530317      1\n",
              "3         69.297008            24.652878  ...                 11.211523      1\n",
              "4         49.712859             9.652075  ...                  7.918501      1\n",
              "\n",
              "[5 rows x 7 columns]"
            ]
          },
          "metadata": {},
          "execution_count": 9
        }
      ]
    },
    {
      "cell_type": "code",
      "source": [
        "# we have a dataset of purely numeric variables\n",
        "data.info()"
      ],
      "metadata": {
        "colab": {
          "base_uri": "https://localhost:8080/"
        },
        "id": "rXA5GOtOEzXL",
        "outputId": "ea4f4a85-0fc3-44c9-b46d-4f446485f2d0"
      },
      "execution_count": 10,
      "outputs": [
        {
          "output_type": "stream",
          "name": "stdout",
          "text": [
            "<class 'pandas.core.frame.DataFrame'>\n",
            "RangeIndex: 310 entries, 0 to 309\n",
            "Data columns (total 7 columns):\n",
            " #   Column                    Non-Null Count  Dtype  \n",
            "---  ------                    --------------  -----  \n",
            " 0   pelvic_incidence          310 non-null    float64\n",
            " 1   pelvic_tilt numeric       310 non-null    float64\n",
            " 2   lumbar_lordosis_angle     310 non-null    float64\n",
            " 3   sacral_slope              310 non-null    float64\n",
            " 4   pelvic_radius             310 non-null    float64\n",
            " 5   degree_spondylolisthesis  310 non-null    float64\n",
            " 6   class                     310 non-null    int64  \n",
            "dtypes: float64(6), int64(1)\n",
            "memory usage: 17.1 KB\n"
          ]
        }
      ]
    },
    {
      "cell_type": "code",
      "source": [
        "y = data[\"class\"].values # putting class into the y variable\n",
        "x_data = data.drop([\"class\"],axis=1) # data wihtout class column"
      ],
      "metadata": {
        "id": "uT3u1acxFJue"
      },
      "execution_count": 12,
      "outputs": []
    },
    {
      "cell_type": "code",
      "source": [
        "# interpreting the relationship between features in the data\n",
        "sns.pairplot(x_data)\n",
        "plt.show()"
      ],
      "metadata": {
        "colab": {
          "base_uri": "https://localhost:8080/",
          "height": 853
        },
        "id": "vo7Dtb_NF3u0",
        "outputId": "6dc577e1-0a26-49f2-9438-3df3323acf9d"
      },
      "execution_count": 13,
      "outputs": [
        {
          "output_type": "display_data",
          "data": {
            "image/png": "[encoded data removed]",
            "text/plain": [
              "<Figure size 1080x1080 with 42 Axes>"
            ]
          },
          "metadata": {
            "needs_background": "light"
          }
        }
      ]
    },
    {
      "cell_type": "code",
      "source": [
        "# min-max normalization \n",
        "x = (x_data - np.min(x_data)) / (np.max(x_data)-np.min(x_data)).values"
      ],
      "metadata": {
        "id": "dHQUmUFcGJ6D"
      },
      "execution_count": 14,
      "outputs": []
    },
    {
      "cell_type": "code",
      "source": [
        "# train test division\n",
        "from sklearn.model_selection import train_test_split"
      ],
      "metadata": {
        "id": "cl-HG72iGyrE"
      },
      "execution_count": 16,
      "outputs": []
    },
    {
      "cell_type": "code",
      "source": [
        "# %15 test, %85 train\n",
        "x_train, x_test, y_train, y_test = train_test_split(x,y,test_size = 0.15, random_state=42 )\n",
        "\n",
        "# Transpoe\n",
        "x_train = x_train.T\n",
        "x_test = x_test.T\n",
        "y_train = y_train.T\n",
        "y_test = y_test.T\n",
        "\n",
        "print(\"x_train: \",x_train.shape)\n",
        "print(\"x_test: \", x_test.shape)\n",
        "print(\"y_train: \", y_train.shape)\n",
        "print(\"y_test: \", y_test.shape)"
      ],
      "metadata": {
        "colab": {
          "base_uri": "https://localhost:8080/"
        },
        "id": "2myfW2j3HOXw",
        "outputId": "f24c9532-9e96-45e4-ed7f-db980e3fa9c8"
      },
      "execution_count": 17,
      "outputs": [
        {
          "output_type": "stream",
          "name": "stdout",
          "text": [
            "x_train:  (6, 263)\n",
            "x_test:  (6, 47)\n",
            "y_train:  (263,)\n",
            "y_test:  (47,)\n"
          ]
        }
      ]
    },
    {
      "cell_type": "code",
      "source": [
        "from sklearn.linear_model import LogisticRegression"
      ],
      "metadata": {
        "id": "eGm2YmGzJICf"
      },
      "execution_count": 20,
      "outputs": []
    },
    {
      "cell_type": "code",
      "source": [
        "# Train\n",
        "logistic_reg = LogisticRegression()\n",
        "logistic_reg.fit(x_train.T, y_train.T)"
      ],
      "metadata": {
        "colab": {
          "base_uri": "https://localhost:8080/"
        },
        "id": "m5MOyjxiJUdp",
        "outputId": "4704a35d-0567-4a2f-9db3-27690b32c742"
      },
      "execution_count": 22,
      "outputs": [
        {
          "output_type": "execute_result",
          "data": {
            "text/plain": [
              "LogisticRegression()"
            ]
          },
          "metadata": {},
          "execution_count": 22
        }
      ]
    },
    {
      "cell_type": "code",
      "source": [
        "# Test\n",
        "test_validation = logistic_reg.score(x_test.T, y_test.T)\n",
        "print(\"Test Validation: {}\".format(test_validation))"
      ],
      "metadata": {
        "colab": {
          "base_uri": "https://localhost:8080/"
        },
        "id": "nB2PjUdAKFst",
        "outputId": "52f9a040-f032-42e2-e3b2-b78737e9807f"
      },
      "execution_count": 23,
      "outputs": [
        {
          "output_type": "stream",
          "name": "stdout",
          "text": [
            "Test Validation: 0.7872340425531915\n"
          ]
        }
      ]
    },
    {
      "cell_type": "markdown",
      "source": [
        "**K-nearest neighbor (kNN)**"
      ],
      "metadata": {
        "id": "ZtbxTTi_Ki37"
      }
    },
    {
      "cell_type": "code",
      "source": [
        "import numpy as np\n",
        "import pandas as pd\n",
        "import matplotlib.pyplot as plt\n",
        "import seaborn as sns"
      ],
      "metadata": {
        "id": "hC8QIh60KmCL"
      },
      "execution_count": 1,
      "outputs": []
    },
    {
      "cell_type": "code",
      "source": [
        "# Import Data\n",
        "data = pd.read_csv(\"/content/drive/MyDrive/BTK_AKADEMİ_VERİ MARATONU/Veri Setleri/ortopedik_hastalarin_biyomekanik_ozellikleri_20220209.csv\")\n",
        "data.head()"
      ],
      "metadata": {
        "colab": {
          "base_uri": "https://localhost:8080/",
          "height": 288
        },
        "id": "7SKNxPmeLMKp",
        "outputId": "c99fc8aa-17b5-4749-dfdb-bf7e0910b78e"
      },
      "execution_count": 2,
      "outputs": [
        {
          "output_type": "execute_result",
          "data": {
            "text/html": [
              "\n",
              "  <div id=\"df-a8631217-cbe2-46af-bd65-600e82dbf398\">\n",
              "    <div class=\"colab-df-container\">\n",
              "      <div>\n",
              "<style scoped>\n",
              "    .dataframe tbody tr th:only-of-type {\n",
              "        vertical-align: middle;\n",
              "    }\n",
              "\n",
              "    .dataframe tbody tr th {\n",
              "        vertical-align: top;\n",
              "    }\n",
              "\n",
              "    .dataframe thead th {\n",
              "        text-align: right;\n",
              "    }\n",
              "</style>\n",
              "<table border=\"1\" class=\"dataframe\">\n",
              "  <thead>\n",
              "    <tr style=\"text-align: right;\">\n",
              "      <th></th>\n",
              "      <th>pelvic_incidence</th>\n",
              "      <th>pelvic_tilt numeric</th>\n",
              "      <th>lumbar_lordosis_angle</th>\n",
              "      <th>sacral_slope</th>\n",
              "      <th>pelvic_radius</th>\n",
              "      <th>degree_spondylolisthesis</th>\n",
              "      <th>class</th>\n",
              "    </tr>\n",
              "  </thead>\n",
              "  <tbody>\n",
              "    <tr>\n",
              "      <th>0</th>\n",
              "      <td>63.027817</td>\n",
              "      <td>22.552586</td>\n",
              "      <td>39.609117</td>\n",
              "      <td>40.475232</td>\n",
              "      <td>98.672917</td>\n",
              "      <td>-0.254400</td>\n",
              "      <td>Abnormal</td>\n",
              "    </tr>\n",
              "    <tr>\n",
              "      <th>1</th>\n",
              "      <td>39.056951</td>\n",
              "      <td>10.060991</td>\n",
              "      <td>25.015378</td>\n",
              "      <td>28.995960</td>\n",
              "      <td>114.405425</td>\n",
              "      <td>4.564259</td>\n",
              "      <td>Abnormal</td>\n",
              "    </tr>\n",
              "    <tr>\n",
              "      <th>2</th>\n",
              "      <td>68.832021</td>\n",
              "      <td>22.218482</td>\n",
              "      <td>50.092194</td>\n",
              "      <td>46.613539</td>\n",
              "      <td>105.985135</td>\n",
              "      <td>-3.530317</td>\n",
              "      <td>Abnormal</td>\n",
              "    </tr>\n",
              "    <tr>\n",
              "      <th>3</th>\n",
              "      <td>69.297008</td>\n",
              "      <td>24.652878</td>\n",
              "      <td>44.311238</td>\n",
              "      <td>44.644130</td>\n",
              "      <td>101.868495</td>\n",
              "      <td>11.211523</td>\n",
              "      <td>Abnormal</td>\n",
              "    </tr>\n",
              "    <tr>\n",
              "      <th>4</th>\n",
              "      <td>49.712859</td>\n",
              "      <td>9.652075</td>\n",
              "      <td>28.317406</td>\n",
              "      <td>40.060784</td>\n",
              "      <td>108.168725</td>\n",
              "      <td>7.918501</td>\n",
              "      <td>Abnormal</td>\n",
              "    </tr>\n",
              "  </tbody>\n",
              "</table>\n",
              "</div>\n",
              "      <button class=\"colab-df-convert\" onclick=\"convertToInteractive('df-a8631217-cbe2-46af-bd65-600e82dbf398')\"\n",
              "              title=\"Convert this dataframe to an interactive table.\"\n",
              "              style=\"display:none;\">\n",
              "        \n",
              "  <svg xmlns=\"http://www.w3.org/2000/svg\" height=\"24px\"viewBox=\"0 0 24 24\"\n",
              "       width=\"24px\">\n",
              "    <path d=\"M0 0h24v24H0V0z\" fill=\"none\"/>\n",
              "    <path d=\"M18.56 5.44l.94 2.06.94-2.06 2.06-.94-2.06-.94-.94-2.06-.94 2.06-2.06.94zm-11 1L8.5 8.5l.94-2.06 2.06-.94-2.06-.94L8.5 2.5l-.94 2.06-2.06.94zm10 10l.94 2.06.94-2.06 2.06-.94-2.06-.94-.94-2.06-.94 2.06-2.06.94z\"/><path d=\"M17.41 7.96l-1.37-1.37c-.4-.4-.92-.59-1.43-.59-.52 0-1.04.2-1.43.59L10.3 9.45l-7.72 7.72c-.78.78-.78 2.05 0 2.83L4 21.41c.39.39.9.59 1.41.59.51 0 1.02-.2 1.41-.59l7.78-7.78 2.81-2.81c.8-.78.8-2.07 0-2.86zM5.41 20L4 18.59l7.72-7.72 1.47 1.35L5.41 20z\"/>\n",
              "  </svg>\n",
              "      </button>\n",
              "      \n",
              "  <style>\n",
              "    .colab-df-container {\n",
              "      display:flex;\n",
              "      flex-wrap:wrap;\n",
              "      gap: 12px;\n",
              "    }\n",
              "\n",
              "    .colab-df-convert {\n",
              "      background-color: #E8F0FE;\n",
              "      border: none;\n",
              "      border-radius: 50%;\n",
              "      cursor: pointer;\n",
              "      display: none;\n",
              "      fill: #1967D2;\n",
              "      height: 32px;\n",
              "      padding: 0 0 0 0;\n",
              "      width: 32px;\n",
              "    }\n",
              "\n",
              "    .colab-df-convert:hover {\n",
              "      background-color: #E2EBFA;\n",
              "      box-shadow: 0px 1px 2px rgba(60, 64, 67, 0.3), 0px 1px 3px 1px rgba(60, 64, 67, 0.15);\n",
              "      fill: #174EA6;\n",
              "    }\n",
              "\n",
              "    [theme=dark] .colab-df-convert {\n",
              "      background-color: #3B4455;\n",
              "      fill: #D2E3FC;\n",
              "    }\n",
              "\n",
              "    [theme=dark] .colab-df-convert:hover {\n",
              "      background-color: #434B5C;\n",
              "      box-shadow: 0px 1px 3px 1px rgba(0, 0, 0, 0.15);\n",
              "      filter: drop-shadow(0px 1px 2px rgba(0, 0, 0, 0.3));\n",
              "      fill: #FFFFFF;\n",
              "    }\n",
              "  </style>\n",
              "\n",
              "      <script>\n",
              "        const buttonEl =\n",
              "          document.querySelector('#df-a8631217-cbe2-46af-bd65-600e82dbf398 button.colab-df-convert');\n",
              "        buttonEl.style.display =\n",
              "          google.colab.kernel.accessAllowed ? 'block' : 'none';\n",
              "\n",
              "        async function convertToInteractive(key) {\n",
              "          const element = document.querySelector('#df-a8631217-cbe2-46af-bd65-600e82dbf398');\n",
              "          const dataTable =\n",
              "            await google.colab.kernel.invokeFunction('convertToInteractive',\n",
              "                                                     [key], {});\n",
              "          if (!dataTable) return;\n",
              "\n",
              "          const docLinkHtml = 'Like what you see? Visit the ' +\n",
              "            '<a target=\"_blank\" href=https://colab.research.google.com/notebooks/data_table.ipynb>data table notebook</a>'\n",
              "            + ' to learn more about interactive tables.';\n",
              "          element.innerHTML = '';\n",
              "          dataTable['output_type'] = 'display_data';\n",
              "          await google.colab.output.renderOutput(dataTable, element);\n",
              "          const docLink = document.createElement('div');\n",
              "          docLink.innerHTML = docLinkHtml;\n",
              "          element.appendChild(docLink);\n",
              "        }\n",
              "      </script>\n",
              "    </div>\n",
              "  </div>\n",
              "  "
            ],
            "text/plain": [
              "   pelvic_incidence  pelvic_tilt numeric  ...  degree_spondylolisthesis     class\n",
              "0         63.027817            22.552586  ...                 -0.254400  Abnormal\n",
              "1         39.056951            10.060991  ...                  4.564259  Abnormal\n",
              "2         68.832021            22.218482  ...                 -3.530317  Abnormal\n",
              "3         69.297008            24.652878  ...                 11.211523  Abnormal\n",
              "4         49.712859             9.652075  ...                  7.918501  Abnormal\n",
              "\n",
              "[5 rows x 7 columns]"
            ]
          },
          "metadata": {},
          "execution_count": 2
        }
      ]
    },
    {
      "cell_type": "code",
      "source": [
        "sns.scatterplot(data=data, x=\"lumbar_lordosis_angle\", y =\"pelvic_tilt numeric\", hue=\"class\")\n",
        "plt.xlabel(\"lumbar lordosis angle\")\n",
        "plt.ylabel(\"pelvic tilt\")\n",
        "plt.legend()\n",
        "plt.show()"
      ],
      "metadata": {
        "colab": {
          "base_uri": "https://localhost:8080/",
          "height": 279
        },
        "id": "be8zGr0ULRMx",
        "outputId": "d49ecb2e-b508-4633-d64c-fb1d6e20c965"
      },
      "execution_count": 4,
      "outputs": [
        {
          "output_type": "display_data",
          "data": {
            "image/png": "[encoded data removed]",
            "text/plain": [
              "<Figure size 432x288 with 1 Axes>"
            ]
          },
          "metadata": {
            "needs_background": "light"
          }
        }
      ]
    },
    {
      "cell_type": "markdown",
      "source": [
        "\n",
        "\n",
        "> this is the hard problem for k-nearest neighbor algorithm because abnormal and normal classes nested in 2D \n",
        "\n"
      ],
      "metadata": {
        "id": "O8OafzlrL8yq"
      }
    },
    {
      "cell_type": "code",
      "source": [
        "data[\"class\"] = [1 if each == \"Abnormal\" else 0 for each in data[\"class\"]]\n",
        "data.head(3)"
      ],
      "metadata": {
        "colab": {
          "base_uri": "https://localhost:8080/",
          "height": 225
        },
        "id": "L7CM7tlZL3a9",
        "outputId": "5ec16405-df11-4e3b-8b93-657f586bb826"
      },
      "execution_count": 5,
      "outputs": [
        {
          "output_type": "execute_result",
          "data": {
            "text/html": [
              "\n",
              "  <div id=\"df-658fcfc7-c8fb-4029-bdcb-94ff54ab2658\">\n",
              "    <div class=\"colab-df-container\">\n",
              "      <div>\n",
              "<style scoped>\n",
              "    .dataframe tbody tr th:only-of-type {\n",
              "        vertical-align: middle;\n",
              "    }\n",
              "\n",
              "    .dataframe tbody tr th {\n",
              "        vertical-align: top;\n",
              "    }\n",
              "\n",
              "    .dataframe thead th {\n",
              "        text-align: right;\n",
              "    }\n",
              "</style>\n",
              "<table border=\"1\" class=\"dataframe\">\n",
              "  <thead>\n",
              "    <tr style=\"text-align: right;\">\n",
              "      <th></th>\n",
              "      <th>pelvic_incidence</th>\n",
              "      <th>pelvic_tilt numeric</th>\n",
              "      <th>lumbar_lordosis_angle</th>\n",
              "      <th>sacral_slope</th>\n",
              "      <th>pelvic_radius</th>\n",
              "      <th>degree_spondylolisthesis</th>\n",
              "      <th>class</th>\n",
              "    </tr>\n",
              "  </thead>\n",
              "  <tbody>\n",
              "    <tr>\n",
              "      <th>0</th>\n",
              "      <td>63.027817</td>\n",
              "      <td>22.552586</td>\n",
              "      <td>39.609117</td>\n",
              "      <td>40.475232</td>\n",
              "      <td>98.672917</td>\n",
              "      <td>-0.254400</td>\n",
              "      <td>1</td>\n",
              "    </tr>\n",
              "    <tr>\n",
              "      <th>1</th>\n",
              "      <td>39.056951</td>\n",
              "      <td>10.060991</td>\n",
              "      <td>25.015378</td>\n",
              "      <td>28.995960</td>\n",
              "      <td>114.405425</td>\n",
              "      <td>4.564259</td>\n",
              "      <td>1</td>\n",
              "    </tr>\n",
              "    <tr>\n",
              "      <th>2</th>\n",
              "      <td>68.832021</td>\n",
              "      <td>22.218482</td>\n",
              "      <td>50.092194</td>\n",
              "      <td>46.613539</td>\n",
              "      <td>105.985135</td>\n",
              "      <td>-3.530317</td>\n",
              "      <td>1</td>\n",
              "    </tr>\n",
              "  </tbody>\n",
              "</table>\n",
              "</div>\n",
              "      <button class=\"colab-df-convert\" onclick=\"convertToInteractive('df-658fcfc7-c8fb-4029-bdcb-94ff54ab2658')\"\n",
              "              title=\"Convert this dataframe to an interactive table.\"\n",
              "              style=\"display:none;\">\n",
              "        \n",
              "  <svg xmlns=\"http://www.w3.org/2000/svg\" height=\"24px\"viewBox=\"0 0 24 24\"\n",
              "       width=\"24px\">\n",
              "    <path d=\"M0 0h24v24H0V0z\" fill=\"none\"/>\n",
              "    <path d=\"M18.56 5.44l.94 2.06.94-2.06 2.06-.94-2.06-.94-.94-2.06-.94 2.06-2.06.94zm-11 1L8.5 8.5l.94-2.06 2.06-.94-2.06-.94L8.5 2.5l-.94 2.06-2.06.94zm10 10l.94 2.06.94-2.06 2.06-.94-2.06-.94-.94-2.06-.94 2.06-2.06.94z\"/><path d=\"M17.41 7.96l-1.37-1.37c-.4-.4-.92-.59-1.43-.59-.52 0-1.04.2-1.43.59L10.3 9.45l-7.72 7.72c-.78.78-.78 2.05 0 2.83L4 21.41c.39.39.9.59 1.41.59.51 0 1.02-.2 1.41-.59l7.78-7.78 2.81-2.81c.8-.78.8-2.07 0-2.86zM5.41 20L4 18.59l7.72-7.72 1.47 1.35L5.41 20z\"/>\n",
              "  </svg>\n",
              "      </button>\n",
              "      \n",
              "  <style>\n",
              "    .colab-df-container {\n",
              "      display:flex;\n",
              "      flex-wrap:wrap;\n",
              "      gap: 12px;\n",
              "    }\n",
              "\n",
              "    .colab-df-convert {\n",
              "      background-color: #E8F0FE;\n",
              "      border: none;\n",
              "      border-radius: 50%;\n",
              "      cursor: pointer;\n",
              "      display: none;\n",
              "      fill: #1967D2;\n",
              "      height: 32px;\n",
              "      padding: 0 0 0 0;\n",
              "      width: 32px;\n",
              "    }\n",
              "\n",
              "    .colab-df-convert:hover {\n",
              "      background-color: #E2EBFA;\n",
              "      box-shadow: 0px 1px 2px rgba(60, 64, 67, 0.3), 0px 1px 3px 1px rgba(60, 64, 67, 0.15);\n",
              "      fill: #174EA6;\n",
              "    }\n",
              "\n",
              "    [theme=dark] .colab-df-convert {\n",
              "      background-color: #3B4455;\n",
              "      fill: #D2E3FC;\n",
              "    }\n",
              "\n",
              "    [theme=dark] .colab-df-convert:hover {\n",
              "      background-color: #434B5C;\n",
              "      box-shadow: 0px 1px 3px 1px rgba(0, 0, 0, 0.15);\n",
              "      filter: drop-shadow(0px 1px 2px rgba(0, 0, 0, 0.3));\n",
              "      fill: #FFFFFF;\n",
              "    }\n",
              "  </style>\n",
              "\n",
              "      <script>\n",
              "        const buttonEl =\n",
              "          document.querySelector('#df-658fcfc7-c8fb-4029-bdcb-94ff54ab2658 button.colab-df-convert');\n",
              "        buttonEl.style.display =\n",
              "          google.colab.kernel.accessAllowed ? 'block' : 'none';\n",
              "\n",
              "        async function convertToInteractive(key) {\n",
              "          const element = document.querySelector('#df-658fcfc7-c8fb-4029-bdcb-94ff54ab2658');\n",
              "          const dataTable =\n",
              "            await google.colab.kernel.invokeFunction('convertToInteractive',\n",
              "                                                     [key], {});\n",
              "          if (!dataTable) return;\n",
              "\n",
              "          const docLinkHtml = 'Like what you see? Visit the ' +\n",
              "            '<a target=\"_blank\" href=https://colab.research.google.com/notebooks/data_table.ipynb>data table notebook</a>'\n",
              "            + ' to learn more about interactive tables.';\n",
              "          element.innerHTML = '';\n",
              "          dataTable['output_type'] = 'display_data';\n",
              "          await google.colab.output.renderOutput(dataTable, element);\n",
              "          const docLink = document.createElement('div');\n",
              "          docLink.innerHTML = docLinkHtml;\n",
              "          element.appendChild(docLink);\n",
              "        }\n",
              "      </script>\n",
              "    </div>\n",
              "  </div>\n",
              "  "
            ],
            "text/plain": [
              "   pelvic_incidence  pelvic_tilt numeric  ...  degree_spondylolisthesis  class\n",
              "0         63.027817            22.552586  ...                 -0.254400      1\n",
              "1         39.056951            10.060991  ...                  4.564259      1\n",
              "2         68.832021            22.218482  ...                 -3.530317      1\n",
              "\n",
              "[3 rows x 7 columns]"
            ]
          },
          "metadata": {},
          "execution_count": 5
        }
      ]
    },
    {
      "cell_type": "code",
      "source": [
        "y = data[\"class\"].values # putting class into the y variable\n",
        "x_data = data.drop([\"class\"],axis=1) # data wihtout class column"
      ],
      "metadata": {
        "id": "IUMadeJwMl9Y"
      },
      "execution_count": 6,
      "outputs": []
    },
    {
      "cell_type": "code",
      "source": [
        "# min-max normalization \n",
        "x = (x_data - np.min(x_data)) / (np.max(x_data)-np.min(x_data)).values"
      ],
      "metadata": {
        "id": "2PZolUMjMoDO"
      },
      "execution_count": 7,
      "outputs": []
    },
    {
      "cell_type": "code",
      "source": [
        "# train test division\n",
        "from sklearn.model_selection import train_test_split\n",
        "\n",
        "# %15 test, %85 train\n",
        "x_train, x_test, y_train, y_test = train_test_split(x,y,test_size = 0.15, random_state=1 )"
      ],
      "metadata": {
        "id": "2kpbwtAqMrGE"
      },
      "execution_count": 8,
      "outputs": []
    },
    {
      "cell_type": "code",
      "source": [
        "# kNN model\n",
        "from sklearn.neighbors import KNeighborsClassifier\n",
        "neighbor_number = 25\n",
        "knn = KNeighborsClassifier(n_neighbors = neighbor_number)\n",
        "knn.fit(x_train, y_train)\n",
        "\n",
        "prediction = knn.predict(x_test)\n",
        "print(\"{} k-nearest neighbor model test validation: {} \".format(neighbor_number,knn.score(x_test,y_test)))"
      ],
      "metadata": {
        "colab": {
          "base_uri": "https://localhost:8080/"
        },
        "id": "y8fW_PbxM0O-",
        "outputId": "5e8247a9-2f99-4182-8c32-7d1da827aaec"
      },
      "execution_count": 17,
      "outputs": [
        {
          "output_type": "stream",
          "name": "stdout",
          "text": [
            "25 k-nearest neighbor model test validation: 0.7872340425531915 \n"
          ]
        }
      ]
    },
    {
      "cell_type": "code",
      "source": [
        "# Finding the best k value\n",
        "score_list = []\n",
        "for each in range(1,50):\n",
        "  knn2 = KNeighborsClassifier(n_neighbors = each)\n",
        "  knn2.fit(x_train,y_train)\n",
        "  score_list.append(knn2.score(x_test,y_test))\n",
        "\n",
        "plt.plot(range(1,50),score_list)\n",
        "plt.xlabel(\"k values\")\n",
        "plt.ylabel(\"Accuracy\")\n",
        "plt.title(\"Finding the best k value\")\n",
        "plt.show()"
      ],
      "metadata": {
        "colab": {
          "base_uri": "https://localhost:8080/",
          "height": 295
        },
        "id": "6vDfAgFVNX2b",
        "outputId": "c7ccc61e-84d2-4c52-acb0-65301a315c16"
      },
      "execution_count": 15,
      "outputs": [
        {
          "output_type": "display_data",
          "data": {
            "image/png": "[encoded data removed]",
            "text/plain": [
              "<Figure size 432x288 with 1 Axes>"
            ]
          },
          "metadata": {
            "needs_background": "light"
          }
        }
      ]
    },
    {
      "cell_type": "markdown",
      "source": [
        "**Support Vector Machine (SVM)**"
      ],
      "metadata": {
        "id": "ysfmJOSYT4kN"
      }
    },
    {
      "cell_type": "code",
      "source": [
        "import pandas as pd\n",
        "import numpy as np"
      ],
      "metadata": {
        "id": "p7F0NvKJTcDB"
      },
      "execution_count": 3,
      "outputs": []
    },
    {
      "cell_type": "code",
      "source": [
        "data = pd.read_csv(\"/content/drive/MyDrive/BTK_AKADEMİ_VERİ MARATONU/Veri Setleri/ortopedik_hastalarin_biyomekanik_ozellikleri_20220209.csv\")\n",
        "data.head()"
      ],
      "metadata": {
        "colab": {
          "base_uri": "https://localhost:8080/",
          "height": 288
        },
        "id": "7bZu-gHoUYGB",
        "outputId": "e9f2b276-ade8-4609-8f20-968609ec303d"
      },
      "execution_count": 4,
      "outputs": [
        {
          "output_type": "execute_result",
          "data": {
            "text/html": [
              "\n",
              "  <div id=\"df-ee367b72-7458-4b52-8d2a-2de417e645e8\">\n",
              "    <div class=\"colab-df-container\">\n",
              "      <div>\n",
              "<style scoped>\n",
              "    .dataframe tbody tr th:only-of-type {\n",
              "        vertical-align: middle;\n",
              "    }\n",
              "\n",
              "    .dataframe tbody tr th {\n",
              "        vertical-align: top;\n",
              "    }\n",
              "\n",
              "    .dataframe thead th {\n",
              "        text-align: right;\n",
              "    }\n",
              "</style>\n",
              "<table border=\"1\" class=\"dataframe\">\n",
              "  <thead>\n",
              "    <tr style=\"text-align: right;\">\n",
              "      <th></th>\n",
              "      <th>pelvic_incidence</th>\n",
              "      <th>pelvic_tilt numeric</th>\n",
              "      <th>lumbar_lordosis_angle</th>\n",
              "      <th>sacral_slope</th>\n",
              "      <th>pelvic_radius</th>\n",
              "      <th>degree_spondylolisthesis</th>\n",
              "      <th>class</th>\n",
              "    </tr>\n",
              "  </thead>\n",
              "  <tbody>\n",
              "    <tr>\n",
              "      <th>0</th>\n",
              "      <td>63.027817</td>\n",
              "      <td>22.552586</td>\n",
              "      <td>39.609117</td>\n",
              "      <td>40.475232</td>\n",
              "      <td>98.672917</td>\n",
              "      <td>-0.254400</td>\n",
              "      <td>Abnormal</td>\n",
              "    </tr>\n",
              "    <tr>\n",
              "      <th>1</th>\n",
              "      <td>39.056951</td>\n",
              "      <td>10.060991</td>\n",
              "      <td>25.015378</td>\n",
              "      <td>28.995960</td>\n",
              "      <td>114.405425</td>\n",
              "      <td>4.564259</td>\n",
              "      <td>Abnormal</td>\n",
              "    </tr>\n",
              "    <tr>\n",
              "      <th>2</th>\n",
              "      <td>68.832021</td>\n",
              "      <td>22.218482</td>\n",
              "      <td>50.092194</td>\n",
              "      <td>46.613539</td>\n",
              "      <td>105.985135</td>\n",
              "      <td>-3.530317</td>\n",
              "      <td>Abnormal</td>\n",
              "    </tr>\n",
              "    <tr>\n",
              "      <th>3</th>\n",
              "      <td>69.297008</td>\n",
              "      <td>24.652878</td>\n",
              "      <td>44.311238</td>\n",
              "      <td>44.644130</td>\n",
              "      <td>101.868495</td>\n",
              "      <td>11.211523</td>\n",
              "      <td>Abnormal</td>\n",
              "    </tr>\n",
              "    <tr>\n",
              "      <th>4</th>\n",
              "      <td>49.712859</td>\n",
              "      <td>9.652075</td>\n",
              "      <td>28.317406</td>\n",
              "      <td>40.060784</td>\n",
              "      <td>108.168725</td>\n",
              "      <td>7.918501</td>\n",
              "      <td>Abnormal</td>\n",
              "    </tr>\n",
              "  </tbody>\n",
              "</table>\n",
              "</div>\n",
              "      <button class=\"colab-df-convert\" onclick=\"convertToInteractive('df-ee367b72-7458-4b52-8d2a-2de417e645e8')\"\n",
              "              title=\"Convert this dataframe to an interactive table.\"\n",
              "              style=\"display:none;\">\n",
              "        \n",
              "  <svg xmlns=\"http://www.w3.org/2000/svg\" height=\"24px\"viewBox=\"0 0 24 24\"\n",
              "       width=\"24px\">\n",
              "    <path d=\"M0 0h24v24H0V0z\" fill=\"none\"/>\n",
              "    <path d=\"M18.56 5.44l.94 2.06.94-2.06 2.06-.94-2.06-.94-.94-2.06-.94 2.06-2.06.94zm-11 1L8.5 8.5l.94-2.06 2.06-.94-2.06-.94L8.5 2.5l-.94 2.06-2.06.94zm10 10l.94 2.06.94-2.06 2.06-.94-2.06-.94-.94-2.06-.94 2.06-2.06.94z\"/><path d=\"M17.41 7.96l-1.37-1.37c-.4-.4-.92-.59-1.43-.59-.52 0-1.04.2-1.43.59L10.3 9.45l-7.72 7.72c-.78.78-.78 2.05 0 2.83L4 21.41c.39.39.9.59 1.41.59.51 0 1.02-.2 1.41-.59l7.78-7.78 2.81-2.81c.8-.78.8-2.07 0-2.86zM5.41 20L4 18.59l7.72-7.72 1.47 1.35L5.41 20z\"/>\n",
              "  </svg>\n",
              "      </button>\n",
              "      \n",
              "  <style>\n",
              "    .colab-df-container {\n",
              "      display:flex;\n",
              "      flex-wrap:wrap;\n",
              "      gap: 12px;\n",
              "    }\n",
              "\n",
              "    .colab-df-convert {\n",
              "      background-color: #E8F0FE;\n",
              "      border: none;\n",
              "      border-radius: 50%;\n",
              "      cursor: pointer;\n",
              "      display: none;\n",
              "      fill: #1967D2;\n",
              "      height: 32px;\n",
              "      padding: 0 0 0 0;\n",
              "      width: 32px;\n",
              "    }\n",
              "\n",
              "    .colab-df-convert:hover {\n",
              "      background-color: #E2EBFA;\n",
              "      box-shadow: 0px 1px 2px rgba(60, 64, 67, 0.3), 0px 1px 3px 1px rgba(60, 64, 67, 0.15);\n",
              "      fill: #174EA6;\n",
              "    }\n",
              "\n",
              "    [theme=dark] .colab-df-convert {\n",
              "      background-color: #3B4455;\n",
              "      fill: #D2E3FC;\n",
              "    }\n",
              "\n",
              "    [theme=dark] .colab-df-convert:hover {\n",
              "      background-color: #434B5C;\n",
              "      box-shadow: 0px 1px 3px 1px rgba(0, 0, 0, 0.15);\n",
              "      filter: drop-shadow(0px 1px 2px rgba(0, 0, 0, 0.3));\n",
              "      fill: #FFFFFF;\n",
              "    }\n",
              "  </style>\n",
              "\n",
              "      <script>\n",
              "        const buttonEl =\n",
              "          document.querySelector('#df-ee367b72-7458-4b52-8d2a-2de417e645e8 button.colab-df-convert');\n",
              "        buttonEl.style.display =\n",
              "          google.colab.kernel.accessAllowed ? 'block' : 'none';\n",
              "\n",
              "        async function convertToInteractive(key) {\n",
              "          const element = document.querySelector('#df-ee367b72-7458-4b52-8d2a-2de417e645e8');\n",
              "          const dataTable =\n",
              "            await google.colab.kernel.invokeFunction('convertToInteractive',\n",
              "                                                     [key], {});\n",
              "          if (!dataTable) return;\n",
              "\n",
              "          const docLinkHtml = 'Like what you see? Visit the ' +\n",
              "            '<a target=\"_blank\" href=https://colab.research.google.com/notebooks/data_table.ipynb>data table notebook</a>'\n",
              "            + ' to learn more about interactive tables.';\n",
              "          element.innerHTML = '';\n",
              "          dataTable['output_type'] = 'display_data';\n",
              "          await google.colab.output.renderOutput(dataTable, element);\n",
              "          const docLink = document.createElement('div');\n",
              "          docLink.innerHTML = docLinkHtml;\n",
              "          element.appendChild(docLink);\n",
              "        }\n",
              "      </script>\n",
              "    </div>\n",
              "  </div>\n",
              "  "
            ],
            "text/plain": [
              "   pelvic_incidence  pelvic_tilt numeric  ...  degree_spondylolisthesis     class\n",
              "0         63.027817            22.552586  ...                 -0.254400  Abnormal\n",
              "1         39.056951            10.060991  ...                  4.564259  Abnormal\n",
              "2         68.832021            22.218482  ...                 -3.530317  Abnormal\n",
              "3         69.297008            24.652878  ...                 11.211523  Abnormal\n",
              "4         49.712859             9.652075  ...                  7.918501  Abnormal\n",
              "\n",
              "[5 rows x 7 columns]"
            ]
          },
          "metadata": {},
          "execution_count": 4
        }
      ]
    },
    {
      "cell_type": "code",
      "source": [
        "data[\"class\"] = [1 if each == \"Abnormal\" else 0 for each in data[\"class\"]]\n",
        "data.head(3)"
      ],
      "metadata": {
        "colab": {
          "base_uri": "https://localhost:8080/",
          "height": 225
        },
        "id": "9ksjyHluUbEb",
        "outputId": "f84d22a5-cdaa-40e7-8ea9-f2454e8dd319"
      },
      "execution_count": 5,
      "outputs": [
        {
          "output_type": "execute_result",
          "data": {
            "text/html": [
              "\n",
              "  <div id=\"df-d9b7236d-3eac-4804-a1ab-dadb50b84bb7\">\n",
              "    <div class=\"colab-df-container\">\n",
              "      <div>\n",
              "<style scoped>\n",
              "    .dataframe tbody tr th:only-of-type {\n",
              "        vertical-align: middle;\n",
              "    }\n",
              "\n",
              "    .dataframe tbody tr th {\n",
              "        vertical-align: top;\n",
              "    }\n",
              "\n",
              "    .dataframe thead th {\n",
              "        text-align: right;\n",
              "    }\n",
              "</style>\n",
              "<table border=\"1\" class=\"dataframe\">\n",
              "  <thead>\n",
              "    <tr style=\"text-align: right;\">\n",
              "      <th></th>\n",
              "      <th>pelvic_incidence</th>\n",
              "      <th>pelvic_tilt numeric</th>\n",
              "      <th>lumbar_lordosis_angle</th>\n",
              "      <th>sacral_slope</th>\n",
              "      <th>pelvic_radius</th>\n",
              "      <th>degree_spondylolisthesis</th>\n",
              "      <th>class</th>\n",
              "    </tr>\n",
              "  </thead>\n",
              "  <tbody>\n",
              "    <tr>\n",
              "      <th>0</th>\n",
              "      <td>63.027817</td>\n",
              "      <td>22.552586</td>\n",
              "      <td>39.609117</td>\n",
              "      <td>40.475232</td>\n",
              "      <td>98.672917</td>\n",
              "      <td>-0.254400</td>\n",
              "      <td>1</td>\n",
              "    </tr>\n",
              "    <tr>\n",
              "      <th>1</th>\n",
              "      <td>39.056951</td>\n",
              "      <td>10.060991</td>\n",
              "      <td>25.015378</td>\n",
              "      <td>28.995960</td>\n",
              "      <td>114.405425</td>\n",
              "      <td>4.564259</td>\n",
              "      <td>1</td>\n",
              "    </tr>\n",
              "    <tr>\n",
              "      <th>2</th>\n",
              "      <td>68.832021</td>\n",
              "      <td>22.218482</td>\n",
              "      <td>50.092194</td>\n",
              "      <td>46.613539</td>\n",
              "      <td>105.985135</td>\n",
              "      <td>-3.530317</td>\n",
              "      <td>1</td>\n",
              "    </tr>\n",
              "  </tbody>\n",
              "</table>\n",
              "</div>\n",
              "      <button class=\"colab-df-convert\" onclick=\"convertToInteractive('df-d9b7236d-3eac-4804-a1ab-dadb50b84bb7')\"\n",
              "              title=\"Convert this dataframe to an interactive table.\"\n",
              "              style=\"display:none;\">\n",
              "        \n",
              "  <svg xmlns=\"http://www.w3.org/2000/svg\" height=\"24px\"viewBox=\"0 0 24 24\"\n",
              "       width=\"24px\">\n",
              "    <path d=\"M0 0h24v24H0V0z\" fill=\"none\"/>\n",
              "    <path d=\"M18.56 5.44l.94 2.06.94-2.06 2.06-.94-2.06-.94-.94-2.06-.94 2.06-2.06.94zm-11 1L8.5 8.5l.94-2.06 2.06-.94-2.06-.94L8.5 2.5l-.94 2.06-2.06.94zm10 10l.94 2.06.94-2.06 2.06-.94-2.06-.94-.94-2.06-.94 2.06-2.06.94z\"/><path d=\"M17.41 7.96l-1.37-1.37c-.4-.4-.92-.59-1.43-.59-.52 0-1.04.2-1.43.59L10.3 9.45l-7.72 7.72c-.78.78-.78 2.05 0 2.83L4 21.41c.39.39.9.59 1.41.59.51 0 1.02-.2 1.41-.59l7.78-7.78 2.81-2.81c.8-.78.8-2.07 0-2.86zM5.41 20L4 18.59l7.72-7.72 1.47 1.35L5.41 20z\"/>\n",
              "  </svg>\n",
              "      </button>\n",
              "      \n",
              "  <style>\n",
              "    .colab-df-container {\n",
              "      display:flex;\n",
              "      flex-wrap:wrap;\n",
              "      gap: 12px;\n",
              "    }\n",
              "\n",
              "    .colab-df-convert {\n",
              "      background-color: #E8F0FE;\n",
              "      border: none;\n",
              "      border-radius: 50%;\n",
              "      cursor: pointer;\n",
              "      display: none;\n",
              "      fill: #1967D2;\n",
              "      height: 32px;\n",
              "      padding: 0 0 0 0;\n",
              "      width: 32px;\n",
              "    }\n",
              "\n",
              "    .colab-df-convert:hover {\n",
              "      background-color: #E2EBFA;\n",
              "      box-shadow: 0px 1px 2px rgba(60, 64, 67, 0.3), 0px 1px 3px 1px rgba(60, 64, 67, 0.15);\n",
              "      fill: #174EA6;\n",
              "    }\n",
              "\n",
              "    [theme=dark] .colab-df-convert {\n",
              "      background-color: #3B4455;\n",
              "      fill: #D2E3FC;\n",
              "    }\n",
              "\n",
              "    [theme=dark] .colab-df-convert:hover {\n",
              "      background-color: #434B5C;\n",
              "      box-shadow: 0px 1px 3px 1px rgba(0, 0, 0, 0.15);\n",
              "      filter: drop-shadow(0px 1px 2px rgba(0, 0, 0, 0.3));\n",
              "      fill: #FFFFFF;\n",
              "    }\n",
              "  </style>\n",
              "\n",
              "      <script>\n",
              "        const buttonEl =\n",
              "          document.querySelector('#df-d9b7236d-3eac-4804-a1ab-dadb50b84bb7 button.colab-df-convert');\n",
              "        buttonEl.style.display =\n",
              "          google.colab.kernel.accessAllowed ? 'block' : 'none';\n",
              "\n",
              "        async function convertToInteractive(key) {\n",
              "          const element = document.querySelector('#df-d9b7236d-3eac-4804-a1ab-dadb50b84bb7');\n",
              "          const dataTable =\n",
              "            await google.colab.kernel.invokeFunction('convertToInteractive',\n",
              "                                                     [key], {});\n",
              "          if (!dataTable) return;\n",
              "\n",
              "          const docLinkHtml = 'Like what you see? Visit the ' +\n",
              "            '<a target=\"_blank\" href=https://colab.research.google.com/notebooks/data_table.ipynb>data table notebook</a>'\n",
              "            + ' to learn more about interactive tables.';\n",
              "          element.innerHTML = '';\n",
              "          dataTable['output_type'] = 'display_data';\n",
              "          await google.colab.output.renderOutput(dataTable, element);\n",
              "          const docLink = document.createElement('div');\n",
              "          docLink.innerHTML = docLinkHtml;\n",
              "          element.appendChild(docLink);\n",
              "        }\n",
              "      </script>\n",
              "    </div>\n",
              "  </div>\n",
              "  "
            ],
            "text/plain": [
              "   pelvic_incidence  pelvic_tilt numeric  ...  degree_spondylolisthesis  class\n",
              "0         63.027817            22.552586  ...                 -0.254400      1\n",
              "1         39.056951            10.060991  ...                  4.564259      1\n",
              "2         68.832021            22.218482  ...                 -3.530317      1\n",
              "\n",
              "[3 rows x 7 columns]"
            ]
          },
          "metadata": {},
          "execution_count": 5
        }
      ]
    },
    {
      "cell_type": "code",
      "source": [
        "y = data[\"class\"].values # putting class into the y variable\n",
        "x_data = data.drop([\"class\"],axis=1) # data wihtout class column"
      ],
      "metadata": {
        "id": "QHcLLiY3WgDJ"
      },
      "execution_count": 6,
      "outputs": []
    },
    {
      "cell_type": "code",
      "source": [
        "# min-max normalization \n",
        "x = (x_data - np.min(x_data)) / (np.max(x_data)-np.min(x_data)).values"
      ],
      "metadata": {
        "id": "OAeI5Kg7UfjM"
      },
      "execution_count": 7,
      "outputs": []
    },
    {
      "cell_type": "code",
      "source": [
        "# train test division\n",
        "from sklearn.model_selection import train_test_split\n",
        "\n",
        "# %15 test, %85 train\n",
        "x_train, x_test, y_train, y_test = train_test_split(x,y,test_size = 0.15, random_state=1 )"
      ],
      "metadata": {
        "id": "OQLyI-uOUkEv"
      },
      "execution_count": 8,
      "outputs": []
    },
    {
      "cell_type": "code",
      "source": [
        "# Import Support Vector Machine \n",
        "from sklearn.svm import SVC\n",
        "\n",
        "# Support Vector Machine Training\n",
        "svm = SVC(random_state = 1)\n",
        "svm.fit(x_train,y_train)\n",
        "\n",
        "print(\"Support Vector Machine Test Validation: {}\".format(svm.score(x_test,y_test)))"
      ],
      "metadata": {
        "colab": {
          "base_uri": "https://localhost:8080/"
        },
        "id": "pKWbcK8NUqyV",
        "outputId": "3cddd20e-b6e0-4879-c596-c819e1d32ac7"
      },
      "execution_count": 9,
      "outputs": [
        {
          "output_type": "stream",
          "name": "stdout",
          "text": [
            "Support Vector Machine Test Validation: 0.7872340425531915\n"
          ]
        }
      ]
    },
    {
      "cell_type": "markdown",
      "source": [
        "**Decision Tree**"
      ],
      "metadata": {
        "id": "zRIQ-F6EVGK_"
      }
    },
    {
      "cell_type": "code",
      "source": [
        "import pandas as pd\n",
        "import numpy as np"
      ],
      "metadata": {
        "id": "IO8ccrhwVJN_"
      },
      "execution_count": 1,
      "outputs": []
    },
    {
      "cell_type": "code",
      "source": [
        "data = pd.read_csv(\"/content/drive/MyDrive/BTK_AKADEMİ_VERİ MARATONU/Veri Setleri/ortopedik_hastalarin_biyomekanik_ozellikleri_20220209.csv\")\n",
        "data[\"class\"] = [1 if each == \"Abnormal\" else 0 for each in data[\"class\"]]\n",
        "data.head(3)"
      ],
      "metadata": {
        "colab": {
          "base_uri": "https://localhost:8080/",
          "height": 225
        },
        "id": "4LpsJOhPWESv",
        "outputId": "0eff39de-590d-4314-9d3a-d9b02846d6a1"
      },
      "execution_count": 2,
      "outputs": [
        {
          "output_type": "execute_result",
          "data": {
            "text/html": [
              "\n",
              "  <div id=\"df-941416f5-9f90-4dd0-af92-abba578507ba\">\n",
              "    <div class=\"colab-df-container\">\n",
              "      <div>\n",
              "<style scoped>\n",
              "    .dataframe tbody tr th:only-of-type {\n",
              "        vertical-align: middle;\n",
              "    }\n",
              "\n",
              "    .dataframe tbody tr th {\n",
              "        vertical-align: top;\n",
              "    }\n",
              "\n",
              "    .dataframe thead th {\n",
              "        text-align: right;\n",
              "    }\n",
              "</style>\n",
              "<table border=\"1\" class=\"dataframe\">\n",
              "  <thead>\n",
              "    <tr style=\"text-align: right;\">\n",
              "      <th></th>\n",
              "      <th>pelvic_incidence</th>\n",
              "      <th>pelvic_tilt numeric</th>\n",
              "      <th>lumbar_lordosis_angle</th>\n",
              "      <th>sacral_slope</th>\n",
              "      <th>pelvic_radius</th>\n",
              "      <th>degree_spondylolisthesis</th>\n",
              "      <th>class</th>\n",
              "    </tr>\n",
              "  </thead>\n",
              "  <tbody>\n",
              "    <tr>\n",
              "      <th>0</th>\n",
              "      <td>63.027817</td>\n",
              "      <td>22.552586</td>\n",
              "      <td>39.609117</td>\n",
              "      <td>40.475232</td>\n",
              "      <td>98.672917</td>\n",
              "      <td>-0.254400</td>\n",
              "      <td>1</td>\n",
              "    </tr>\n",
              "    <tr>\n",
              "      <th>1</th>\n",
              "      <td>39.056951</td>\n",
              "      <td>10.060991</td>\n",
              "      <td>25.015378</td>\n",
              "      <td>28.995960</td>\n",
              "      <td>114.405425</td>\n",
              "      <td>4.564259</td>\n",
              "      <td>1</td>\n",
              "    </tr>\n",
              "    <tr>\n",
              "      <th>2</th>\n",
              "      <td>68.832021</td>\n",
              "      <td>22.218482</td>\n",
              "      <td>50.092194</td>\n",
              "      <td>46.613539</td>\n",
              "      <td>105.985135</td>\n",
              "      <td>-3.530317</td>\n",
              "      <td>1</td>\n",
              "    </tr>\n",
              "  </tbody>\n",
              "</table>\n",
              "</div>\n",
              "      <button class=\"colab-df-convert\" onclick=\"convertToInteractive('df-941416f5-9f90-4dd0-af92-abba578507ba')\"\n",
              "              title=\"Convert this dataframe to an interactive table.\"\n",
              "              style=\"display:none;\">\n",
              "        \n",
              "  <svg xmlns=\"http://www.w3.org/2000/svg\" height=\"24px\"viewBox=\"0 0 24 24\"\n",
              "       width=\"24px\">\n",
              "    <path d=\"M0 0h24v24H0V0z\" fill=\"none\"/>\n",
              "    <path d=\"M18.56 5.44l.94 2.06.94-2.06 2.06-.94-2.06-.94-.94-2.06-.94 2.06-2.06.94zm-11 1L8.5 8.5l.94-2.06 2.06-.94-2.06-.94L8.5 2.5l-.94 2.06-2.06.94zm10 10l.94 2.06.94-2.06 2.06-.94-2.06-.94-.94-2.06-.94 2.06-2.06.94z\"/><path d=\"M17.41 7.96l-1.37-1.37c-.4-.4-.92-.59-1.43-.59-.52 0-1.04.2-1.43.59L10.3 9.45l-7.72 7.72c-.78.78-.78 2.05 0 2.83L4 21.41c.39.39.9.59 1.41.59.51 0 1.02-.2 1.41-.59l7.78-7.78 2.81-2.81c.8-.78.8-2.07 0-2.86zM5.41 20L4 18.59l7.72-7.72 1.47 1.35L5.41 20z\"/>\n",
              "  </svg>\n",
              "      </button>\n",
              "      \n",
              "  <style>\n",
              "    .colab-df-container {\n",
              "      display:flex;\n",
              "      flex-wrap:wrap;\n",
              "      gap: 12px;\n",
              "    }\n",
              "\n",
              "    .colab-df-convert {\n",
              "      background-color: #E8F0FE;\n",
              "      border: none;\n",
              "      border-radius: 50%;\n",
              "      cursor: pointer;\n",
              "      display: none;\n",
              "      fill: #1967D2;\n",
              "      height: 32px;\n",
              "      padding: 0 0 0 0;\n",
              "      width: 32px;\n",
              "    }\n",
              "\n",
              "    .colab-df-convert:hover {\n",
              "      background-color: #E2EBFA;\n",
              "      box-shadow: 0px 1px 2px rgba(60, 64, 67, 0.3), 0px 1px 3px 1px rgba(60, 64, 67, 0.15);\n",
              "      fill: #174EA6;\n",
              "    }\n",
              "\n",
              "    [theme=dark] .colab-df-convert {\n",
              "      background-color: #3B4455;\n",
              "      fill: #D2E3FC;\n",
              "    }\n",
              "\n",
              "    [theme=dark] .colab-df-convert:hover {\n",
              "      background-color: #434B5C;\n",
              "      box-shadow: 0px 1px 3px 1px rgba(0, 0, 0, 0.15);\n",
              "      filter: drop-shadow(0px 1px 2px rgba(0, 0, 0, 0.3));\n",
              "      fill: #FFFFFF;\n",
              "    }\n",
              "  </style>\n",
              "\n",
              "      <script>\n",
              "        const buttonEl =\n",
              "          document.querySelector('#df-941416f5-9f90-4dd0-af92-abba578507ba button.colab-df-convert');\n",
              "        buttonEl.style.display =\n",
              "          google.colab.kernel.accessAllowed ? 'block' : 'none';\n",
              "\n",
              "        async function convertToInteractive(key) {\n",
              "          const element = document.querySelector('#df-941416f5-9f90-4dd0-af92-abba578507ba');\n",
              "          const dataTable =\n",
              "            await google.colab.kernel.invokeFunction('convertToInteractive',\n",
              "                                                     [key], {});\n",
              "          if (!dataTable) return;\n",
              "\n",
              "          const docLinkHtml = 'Like what you see? Visit the ' +\n",
              "            '<a target=\"_blank\" href=https://colab.research.google.com/notebooks/data_table.ipynb>data table notebook</a>'\n",
              "            + ' to learn more about interactive tables.';\n",
              "          element.innerHTML = '';\n",
              "          dataTable['output_type'] = 'display_data';\n",
              "          await google.colab.output.renderOutput(dataTable, element);\n",
              "          const docLink = document.createElement('div');\n",
              "          docLink.innerHTML = docLinkHtml;\n",
              "          element.appendChild(docLink);\n",
              "        }\n",
              "      </script>\n",
              "    </div>\n",
              "  </div>\n",
              "  "
            ],
            "text/plain": [
              "   pelvic_incidence  pelvic_tilt numeric  ...  degree_spondylolisthesis  class\n",
              "0         63.027817            22.552586  ...                 -0.254400      1\n",
              "1         39.056951            10.060991  ...                  4.564259      1\n",
              "2         68.832021            22.218482  ...                 -3.530317      1\n",
              "\n",
              "[3 rows x 7 columns]"
            ]
          },
          "metadata": {},
          "execution_count": 2
        }
      ]
    },
    {
      "cell_type": "code",
      "source": [
        "y = data[\"class\"].values # putting class into the y variable\n",
        "x_data = data.drop([\"class\"],axis=1) # data wihtout class column"
      ],
      "metadata": {
        "id": "ZMxU5CX2Wy57"
      },
      "execution_count": 3,
      "outputs": []
    },
    {
      "cell_type": "code",
      "source": [
        "# min-max normalization \n",
        "x = (x_data - np.min(x_data)) / (np.max(x_data)-np.min(x_data))"
      ],
      "metadata": {
        "id": "IY9laBAlWIQF"
      },
      "execution_count": 4,
      "outputs": []
    },
    {
      "cell_type": "code",
      "source": [
        "# train test division\n",
        "from sklearn.model_selection import train_test_split\n",
        "\n",
        "# %15 test, %85 train\n",
        "x_train, x_test, y_train, y_test = train_test_split(x,y,test_size = 0.15, random_state=1 )"
      ],
      "metadata": {
        "id": "IyZMn6qgW3Gd"
      },
      "execution_count": 5,
      "outputs": []
    },
    {
      "cell_type": "code",
      "source": [
        "# Import Decision Tree\n",
        "from sklearn.tree import DecisionTreeClassifier\n",
        "\n",
        "# Decision Tree Training\n",
        "dt = DecisionTreeClassifier()\n",
        "dt.fit(x_train,y_train)\n",
        "\n",
        "print(\"Decision Tree Test Validation: {}\".format(dt.score(x_test,y_test)))"
      ],
      "metadata": {
        "colab": {
          "base_uri": "https://localhost:8080/"
        },
        "id": "JZHsQUmFXHMr",
        "outputId": "3ad22591-cbd6-4ee4-c3bf-47248ff68ca1"
      },
      "execution_count": 10,
      "outputs": [
        {
          "output_type": "stream",
          "name": "stdout",
          "text": [
            "Decision Tree Test Validation: 0.8297872340425532\n"
          ]
        }
      ]
    },
    {
      "cell_type": "markdown",
      "source": [
        "\n",
        "\n",
        "> Şu son bloğu tekrar tekrar çalıştırdıkça farklı sonuç veriyor. Decision Tree modeline özel bir özellik mi? Araştır.\n",
        "\n",
        "\n",
        "\n"
      ],
      "metadata": {
        "id": "9dUrKHt_XzU_"
      }
    },
    {
      "cell_type": "markdown",
      "source": [
        "**Random Forest**"
      ],
      "metadata": {
        "id": "jHNi8oVvYBxP"
      }
    },
    {
      "cell_type": "code",
      "source": [
        ""
      ],
      "metadata": {
        "id": "egnqrpXUX9-1"
      },
      "execution_count": null,
      "outputs": []
    }
  ]
}